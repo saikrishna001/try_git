{
 "cells": [
  {
   "cell_type": "raw",
   "metadata": {
    "deletable": true,
    "editable": true
   },
   "source": [
    "Project goes in 4 steps.\n",
    "i,   Analyzing each parameter with respect to target\n",
    "ii,  Applying various classification models over a range of parameters to obtain the best possibile accuracy\n",
    "iii, Calculating the probability of employeers who might leave next and obtaining important features among the give      features\n",
    "iv,  Applying Principle Component Analysis to check for any possibility of dimensionality reduction"
   ]
  },
  {
   "cell_type": "code",
   "execution_count": 1,
   "metadata": {
    "collapsed": true,
    "deletable": true,
    "editable": true
   },
   "outputs": [],
   "source": [
    "#Importing libraries\n",
    "import pandas as pd\n",
    "import numpy as np\n",
    "import matplotlib.pyplot as plt\n",
    "import seaborn as sns\n",
    "%matplotlib inline"
   ]
  },
  {
   "cell_type": "code",
   "execution_count": 2,
   "metadata": {
    "collapsed": false,
    "deletable": true,
    "editable": true
   },
   "outputs": [
    {
     "data": {
      "text/html": [
       "<div>\n",
       "<table border=\"1\" class=\"dataframe\">\n",
       "  <thead>\n",
       "    <tr style=\"text-align: right;\">\n",
       "      <th></th>\n",
       "      <th>satisfaction_level</th>\n",
       "      <th>last_evaluation</th>\n",
       "      <th>number_project</th>\n",
       "      <th>average_montly_hours</th>\n",
       "      <th>time_spend_company</th>\n",
       "      <th>Work_accident</th>\n",
       "      <th>left</th>\n",
       "      <th>promotion_last_5years</th>\n",
       "      <th>sales</th>\n",
       "      <th>salary</th>\n",
       "    </tr>\n",
       "  </thead>\n",
       "  <tbody>\n",
       "    <tr>\n",
       "      <th>0</th>\n",
       "      <td>0.38</td>\n",
       "      <td>0.53</td>\n",
       "      <td>2</td>\n",
       "      <td>157</td>\n",
       "      <td>3</td>\n",
       "      <td>0</td>\n",
       "      <td>1</td>\n",
       "      <td>0</td>\n",
       "      <td>sales</td>\n",
       "      <td>low</td>\n",
       "    </tr>\n",
       "    <tr>\n",
       "      <th>1</th>\n",
       "      <td>0.80</td>\n",
       "      <td>0.86</td>\n",
       "      <td>5</td>\n",
       "      <td>262</td>\n",
       "      <td>6</td>\n",
       "      <td>0</td>\n",
       "      <td>1</td>\n",
       "      <td>0</td>\n",
       "      <td>sales</td>\n",
       "      <td>medium</td>\n",
       "    </tr>\n",
       "    <tr>\n",
       "      <th>2</th>\n",
       "      <td>0.11</td>\n",
       "      <td>0.88</td>\n",
       "      <td>7</td>\n",
       "      <td>272</td>\n",
       "      <td>4</td>\n",
       "      <td>0</td>\n",
       "      <td>1</td>\n",
       "      <td>0</td>\n",
       "      <td>sales</td>\n",
       "      <td>medium</td>\n",
       "    </tr>\n",
       "  </tbody>\n",
       "</table>\n",
       "</div>"
      ],
      "text/plain": [
       "   satisfaction_level  last_evaluation  number_project  average_montly_hours  \\\n",
       "0                0.38             0.53               2                   157   \n",
       "1                0.80             0.86               5                   262   \n",
       "2                0.11             0.88               7                   272   \n",
       "\n",
       "   time_spend_company  Work_accident  left  promotion_last_5years  sales  \\\n",
       "0                   3              0     1                      0  sales   \n",
       "1                   6              0     1                      0  sales   \n",
       "2                   4              0     1                      0  sales   \n",
       "\n",
       "   salary  \n",
       "0     low  \n",
       "1  medium  \n",
       "2  medium  "
      ]
     },
     "execution_count": 2,
     "metadata": {},
     "output_type": "execute_result"
    }
   ],
   "source": [
    "#Reading the csv file\n",
    "hr_data = pd.read_csv(\"HR_comma_sep.csv\")\n",
    "hr_data.head(3)"
   ]
  },
  {
   "cell_type": "code",
   "execution_count": 3,
   "metadata": {
    "collapsed": false,
    "deletable": true,
    "editable": true
   },
   "outputs": [
    {
     "name": "stdout",
     "output_type": "stream",
     "text": [
      "<class 'pandas.core.frame.DataFrame'>\n",
      "Int64Index: 14999 entries, 0 to 14998\n",
      "Data columns (total 10 columns):\n",
      "satisfaction_level       14999 non-null float64\n",
      "last_evaluation          14999 non-null float64\n",
      "number_project           14999 non-null int64\n",
      "average_montly_hours     14999 non-null int64\n",
      "time_spend_company       14999 non-null int64\n",
      "Work_accident            14999 non-null int64\n",
      "left                     14999 non-null int64\n",
      "promotion_last_5years    14999 non-null int64\n",
      "sales                    14999 non-null object\n",
      "salary                   14999 non-null object\n",
      "dtypes: float64(2), int64(6), object(2)\n",
      "memory usage: 1.3+ MB\n"
     ]
    }
   ],
   "source": [
    "#looking for any missing values\n",
    "hr_data.info()"
   ]
  },
  {
   "cell_type": "raw",
   "metadata": {
    "deletable": true,
    "editable": true
   },
   "source": [
    "No missing values."
   ]
  },
  {
   "cell_type": "markdown",
   "metadata": {
    "deletable": true,
    "editable": true
   },
   "source": [
    "# Analysing each parameter with respect to target "
   ]
  },
  {
   "cell_type": "code",
   "execution_count": 4,
   "metadata": {
    "collapsed": false,
    "deletable": true,
    "editable": true
   },
   "outputs": [
    {
     "data": {
      "text/html": [
       "<div>\n",
       "<table border=\"1\" class=\"dataframe\">\n",
       "  <thead>\n",
       "    <tr style=\"text-align: right;\">\n",
       "      <th></th>\n",
       "      <th>Total Employees</th>\n",
       "      <th>No. of employees left</th>\n",
       "      <th>Percentage of people left</th>\n",
       "    </tr>\n",
       "  </thead>\n",
       "  <tbody>\n",
       "    <tr>\n",
       "      <th>low</th>\n",
       "      <td>7316</td>\n",
       "      <td>2172</td>\n",
       "      <td>29.688354</td>\n",
       "    </tr>\n",
       "    <tr>\n",
       "      <th>medium</th>\n",
       "      <td>6446</td>\n",
       "      <td>1317</td>\n",
       "      <td>20.431275</td>\n",
       "    </tr>\n",
       "    <tr>\n",
       "      <th>high</th>\n",
       "      <td>1237</td>\n",
       "      <td>82</td>\n",
       "      <td>6.628941</td>\n",
       "    </tr>\n",
       "  </tbody>\n",
       "</table>\n",
       "</div>"
      ],
      "text/plain": [
       "        Total Employees  No. of employees left  Percentage of people left\n",
       "low                7316                   2172                  29.688354\n",
       "medium             6446                   1317                  20.431275\n",
       "high               1237                     82                   6.628941"
      ]
     },
     "execution_count": 4,
     "metadata": {},
     "output_type": "execute_result"
    }
   ],
   "source": [
    "#Analysing salary of employees\n",
    "salary_analysis = pd.DataFrame({\"Total Employees\" : hr_data[\"salary\"].value_counts(),\"No. of employees left\":hr_data[\"salary\"][hr_data[\"left\"]==1].value_counts()}, index = hr_data[\"salary\"].unique())\n",
    "salary_analysis[\"Percentage of people left\"] = 100 * (salary_analysis[\"No. of employees left\"]/salary_analysis[\"Total Employees\"])\n",
    "salary_analysis.reindex(columns = [\"Total Employees\",\"No. of employees left\",\"Percentage of people left\"])"
   ]
  },
  {
   "cell_type": "raw",
   "metadata": {
    "collapsed": true,
    "deletable": true,
    "editable": true
   },
   "source": [
    "Analysis shows that salary plays significant role in determining the status of employees.Employees with low and medium salaries are more likely to leave the company. "
   ]
  },
  {
   "cell_type": "code",
   "execution_count": 3,
   "metadata": {
    "collapsed": false,
    "deletable": true,
    "editable": true
   },
   "outputs": [
    {
     "name": "stdout",
     "output_type": "stream",
     "text": [
      "Overall percentage of people left are  23.8082538836\n"
     ]
    },
    {
     "data": {
      "text/html": [
       "<div>\n",
       "<table border=\"1\" class=\"dataframe\">\n",
       "  <thead>\n",
       "    <tr style=\"text-align: right;\">\n",
       "      <th></th>\n",
       "      <th>No. of Employees Left</th>\n",
       "      <th>Total No. of Employees</th>\n",
       "      <th>Percentage of Employees left</th>\n",
       "    </tr>\n",
       "  </thead>\n",
       "  <tbody>\n",
       "    <tr>\n",
       "      <th>sales</th>\n",
       "      <td>1014</td>\n",
       "      <td>4140</td>\n",
       "      <td>24.492754</td>\n",
       "    </tr>\n",
       "    <tr>\n",
       "      <th>accounting</th>\n",
       "      <td>204</td>\n",
       "      <td>767</td>\n",
       "      <td>26.597132</td>\n",
       "    </tr>\n",
       "    <tr>\n",
       "      <th>hr</th>\n",
       "      <td>215</td>\n",
       "      <td>739</td>\n",
       "      <td>29.093369</td>\n",
       "    </tr>\n",
       "    <tr>\n",
       "      <th>technical</th>\n",
       "      <td>697</td>\n",
       "      <td>2720</td>\n",
       "      <td>25.625000</td>\n",
       "    </tr>\n",
       "    <tr>\n",
       "      <th>support</th>\n",
       "      <td>555</td>\n",
       "      <td>2229</td>\n",
       "      <td>24.899058</td>\n",
       "    </tr>\n",
       "    <tr>\n",
       "      <th>management</th>\n",
       "      <td>91</td>\n",
       "      <td>630</td>\n",
       "      <td>14.444444</td>\n",
       "    </tr>\n",
       "    <tr>\n",
       "      <th>IT</th>\n",
       "      <td>273</td>\n",
       "      <td>1227</td>\n",
       "      <td>22.249389</td>\n",
       "    </tr>\n",
       "    <tr>\n",
       "      <th>product_mng</th>\n",
       "      <td>198</td>\n",
       "      <td>902</td>\n",
       "      <td>21.951220</td>\n",
       "    </tr>\n",
       "    <tr>\n",
       "      <th>marketing</th>\n",
       "      <td>203</td>\n",
       "      <td>858</td>\n",
       "      <td>23.659674</td>\n",
       "    </tr>\n",
       "    <tr>\n",
       "      <th>RandD</th>\n",
       "      <td>121</td>\n",
       "      <td>787</td>\n",
       "      <td>15.374841</td>\n",
       "    </tr>\n",
       "  </tbody>\n",
       "</table>\n",
       "</div>"
      ],
      "text/plain": [
       "             No. of Employees Left  Total No. of Employees  \\\n",
       "sales                         1014                    4140   \n",
       "accounting                     204                     767   \n",
       "hr                             215                     739   \n",
       "technical                      697                    2720   \n",
       "support                        555                    2229   \n",
       "management                      91                     630   \n",
       "IT                             273                    1227   \n",
       "product_mng                    198                     902   \n",
       "marketing                      203                     858   \n",
       "RandD                          121                     787   \n",
       "\n",
       "             Percentage of Employees left  \n",
       "sales                           24.492754  \n",
       "accounting                      26.597132  \n",
       "hr                              29.093369  \n",
       "technical                       25.625000  \n",
       "support                         24.899058  \n",
       "management                      14.444444  \n",
       "IT                              22.249389  \n",
       "product_mng                     21.951220  \n",
       "marketing                       23.659674  \n",
       "RandD                           15.374841  "
      ]
     },
     "execution_count": 3,
     "metadata": {},
     "output_type": "execute_result"
    }
   ],
   "source": [
    "#Analysis of departments\n",
    "hr_data.rename(columns = {\"sales\":\"department\"},inplace = True)\n",
    "department_analysis = pd.DataFrame({\"Total No. of Employees\":hr_data[\"department\"].value_counts(),\"No. of Employees Left\":hr_data[\"department\"][hr_data[\"left\"]==1].value_counts()}, index = hr_data[\"department\"].unique())\n",
    "department_analysis[\"Percentage of Employees left\"]=100 * (department_analysis[\"No. of Employees Left\"]/department_analysis[\"Total No. of Employees\"])\n",
    "print (\"Overall percentage of people left are \", 100 * hr_data[\"left\"].mean())\n",
    "department_analysis"
   ]
  },
  {
   "cell_type": "raw",
   "metadata": {
    "collapsed": true,
    "deletable": true,
    "editable": true
   },
   "source": [
    "Mean value of most of the departments is nearly equal to mean of people left. HR,accounting showed higher percentage of people left and management, RandD showed minimum values of people left. Examining their salaries might help to understand this behaviour as people with high salaries are less likely to leave the company."
   ]
  },
  {
   "cell_type": "code",
   "execution_count": 6,
   "metadata": {
    "collapsed": false,
    "deletable": true,
    "editable": true
   },
   "outputs": [
    {
     "data": {
      "text/plain": [
       "<matplotlib.axes._subplots.AxesSubplot at 0x7f265ccffa58>"
      ]
     },
     "execution_count": 6,
     "metadata": {},
     "output_type": "execute_result"
    },
    {
     "data": {
      "image/png": "[encoded data removed]",
      "text/plain": [
       "<matplotlib.figure.Figure at 0x7f262aaed550>"
      ]
     },
     "metadata": {},
     "output_type": "display_data"
    }
   ],
   "source": [
    "#salaries of people in above departments\n",
    "#Accounting\n",
    "hr_data[\"salary\"][hr_data[\"department\"]==\"accounting\"].value_counts().plot(kind = \"pie\")"
   ]
  },
  {
   "cell_type": "code",
   "execution_count": 7,
   "metadata": {
    "collapsed": false,
    "deletable": true,
    "editable": true
   },
   "outputs": [
    {
     "data": {
      "text/plain": [
       "<matplotlib.axes._subplots.AxesSubplot at 0x7f262aaa8c18>"
      ]
     },
     "execution_count": 7,
     "metadata": {},
     "output_type": "execute_result"
    },
    {
     "data": {
      "image/png": "[encoded data removed]",
      "text/plain": [
       "<matplotlib.figure.Figure at 0x7f262aaba0b8>"
      ]
     },
     "metadata": {},
     "output_type": "display_data"
    }
   ],
   "source": [
    "#hr\n",
    "hr_data[\"salary\"][hr_data[\"department\"]==\"hr\"].value_counts().plot(kind = \"pie\")"
   ]
  },
  {
   "cell_type": "code",
   "execution_count": 8,
   "metadata": {
    "collapsed": false,
    "deletable": true,
    "editable": true
   },
   "outputs": [
    {
     "data": {
      "text/plain": [
       "<matplotlib.axes._subplots.AxesSubplot at 0x7f262a398390>"
      ]
     },
     "execution_count": 8,
     "metadata": {},
     "output_type": "execute_result"
    },
    {
     "data": {
      "image/png": "[encoded data removed]",
      "text/plain": [
       "<matplotlib.figure.Figure at 0x7f262a395898>"
      ]
     },
     "metadata": {},
     "output_type": "display_data"
    }
   ],
   "source": [
    "#management\n",
    "hr_data[\"salary\"][hr_data[\"department\"]==\"management\"].value_counts().plot(kind = \"pie\")"
   ]
  },
  {
   "cell_type": "code",
   "execution_count": 9,
   "metadata": {
    "collapsed": false,
    "deletable": true,
    "editable": true
   },
   "outputs": [
    {
     "data": {
      "text/plain": [
       "<matplotlib.axes._subplots.AxesSubplot at 0x7f2626aec3c8>"
      ]
     },
     "execution_count": 9,
     "metadata": {},
     "output_type": "execute_result"
    },
    {
     "data": {
      "image/png": "[encoded data removed]",
      "text/plain": [
       "<matplotlib.figure.Figure at 0x7f262ab2e550>"
      ]
     },
     "metadata": {},
     "output_type": "display_data"
    }
   ],
   "source": [
    "#RandD\n",
    "hr_data[\"salary\"][hr_data[\"department\"]==\"RandD\"].value_counts().plot(kind = \"pie\")"
   ]
  },
  {
   "cell_type": "raw",
   "metadata": {
    "deletable": true,
    "editable": true
   },
   "source": [
    "People with high salary are low in hr and accouting departments so percentage of people left in those departments is proportionatily high. In management, good no. of people are with high salary so people left in that department is low. In RandD department, most of the people are with low and medium salaries still few people left the company so other factors might have played significant role here."
   ]
  },
  {
   "cell_type": "code",
   "execution_count": 10,
   "metadata": {
    "collapsed": false,
    "deletable": true,
    "editable": true
   },
   "outputs": [
    {
     "data": {
      "image/png": "[encoded data removed]",
      "text/plain": [
       "<matplotlib.figure.Figure at 0x7f2626ad1198>"
      ]
     },
     "metadata": {},
     "output_type": "display_data"
    }
   ],
   "source": [
    "#Analysing satisfaction level of employees\n",
    "bins = np.linspace(hr_data.satisfaction_level.min(),hr_data.satisfaction_level.max(),10)\n",
    "plt.hist(hr_data[\"satisfaction_level\"][hr_data[\"left\"]==1],bins = bins, label = \"People left\", alpha = 0.7)\n",
    "plt.hist(hr_data[\"satisfaction_level\"][hr_data[\"left\"]==0],bins = bins, label = \"People stayed\", alpha = 0.7)\n",
    "plt.legend(loc = \"best\")\n",
    "plt.xlim(hr_data.satisfaction_level.min()-0.1,hr_data.satisfaction_level.max()+0.1)\n",
    "plt.show()"
   ]
  },
  {
   "cell_type": "raw",
   "metadata": {
    "deletable": true,
    "editable": true
   },
   "source": [
    "People left can be divided into 3 clusters based on their satisfaction level. People with higher satisfaction are less likely to leave. People with lower satisfaction are more likely to leave. A cluster at 0.3-0.5 might be the ones removed by the company. People with satisfaction level of 0.5-0.7 are least likely to leave and can be considered as the optimum value for employeer to stay."
   ]
  },
  {
   "cell_type": "code",
   "execution_count": 11,
   "metadata": {
    "collapsed": false,
    "deletable": true,
    "editable": true
   },
   "outputs": [
    {
     "data": {
      "image/png": "[encoded data removed]",
      "text/plain": [
       "<matplotlib.figure.Figure at 0x7f26682392e8>"
      ]
     },
     "metadata": {},
     "output_type": "display_data"
    }
   ],
   "source": [
    "#last evaluation\n",
    "bins = np.linspace(hr_data.last_evaluation.min(),hr_data.last_evaluation.max(),10)\n",
    "plt.hist(hr_data[\"last_evaluation\"][hr_data[\"left\"]==1],bins = bins, label = \"People left\", alpha = 0.7)\n",
    "plt.hist(hr_data[\"last_evaluation\"][hr_data[\"left\"]==0],bins = bins, label = \"People stayed\", alpha = 0.7)\n",
    "plt.legend(loc = \"best\")\n",
    "plt.xlim(hr_data.last_evaluation.min()-0.1,hr_data.last_evaluation.max()+0.1)\n",
    "plt.show()"
   ]
  },
  {
   "cell_type": "raw",
   "metadata": {
    "deletable": true,
    "editable": true
   },
   "source": [
    "People with lower evaluation scores might be removed by the company and people with higher scores might have got better offers. People with evaluation scores of 0.6-0.8 are less likely to leave and can be considered as optimum value for employeers to stay."
   ]
  },
  {
   "cell_type": "code",
   "execution_count": 12,
   "metadata": {
    "collapsed": false,
    "deletable": true,
    "editable": true
   },
   "outputs": [
    {
     "data": {
      "image/png": "[encoded data removed]",
      "text/plain": [
       "<matplotlib.figure.Figure at 0x7f2626ac48d0>"
      ]
     },
     "metadata": {},
     "output_type": "display_data"
    }
   ],
   "source": [
    "#number_project\n",
    "bins = np.linspace(hr_data.number_project.min(),hr_data.number_project.max(),10)\n",
    "plt.hist(hr_data[\"number_project\"][hr_data[\"left\"]==1],bins = bins, label = \"People left\", alpha = 0.7)\n",
    "plt.hist(hr_data[\"number_project\"][hr_data[\"left\"]==0],bins = bins, label = \"People stayed\", alpha = 0.7)\n",
    "plt.legend(loc = \"best\")\n",
    "plt.xlim(hr_data.number_project.min()-1,hr_data.number_project.max()+1)\n",
    "plt.show()"
   ]
  },
  {
   "cell_type": "raw",
   "metadata": {
    "deletable": true,
    "editable": true
   },
   "source": [
    "People with very high and very low projects are more likely to leave. 3-5 can be considered as optimum number of projects for employeer to stay."
   ]
  },
  {
   "cell_type": "code",
   "execution_count": 13,
   "metadata": {
    "collapsed": false,
    "deletable": true,
    "editable": true
   },
   "outputs": [
    {
     "data": {
      "image/png": "[encoded data removed]",
      "text/plain": [
       "<matplotlib.figure.Figure at 0x7f2626ac44a8>"
      ]
     },
     "metadata": {},
     "output_type": "display_data"
    }
   ],
   "source": [
    "#average_montly_hours\n",
    "bins = np.linspace(hr_data.average_montly_hours.min(),hr_data.average_montly_hours.max(),10)\n",
    "plt.hist(hr_data[\"average_montly_hours\"][hr_data[\"left\"]==1],bins = bins, label = \"People left\", alpha = 0.7)\n",
    "plt.hist(hr_data[\"average_montly_hours\"][hr_data[\"left\"]==0],bins = bins, label = \"People stayed\", alpha = 0.7)\n",
    "plt.legend(loc = \"best\")\n",
    "plt.xlim(hr_data.average_montly_hours.min()-10,hr_data.average_montly_hours.max()+10)\n",
    "plt.show()"
   ]
  },
  {
   "cell_type": "raw",
   "metadata": {
    "deletable": true,
    "editable": true
   },
   "source": [
    "People with very low working hours of 150 per month i.e. 5 hrs per day and those with high working hours of 300 per month i.e. 10 hrs per day are more likely to leave the company.160-220 hours per month can be considered as optimum no. of hours for an employeer to stay."
   ]
  },
  {
   "cell_type": "code",
   "execution_count": 14,
   "metadata": {
    "collapsed": false,
    "deletable": true,
    "editable": true
   },
   "outputs": [
    {
     "data": {
      "image/png": "[encoded data removed]",
      "text/plain": [
       "<matplotlib.figure.Figure at 0x7f2626ac4080>"
      ]
     },
     "metadata": {},
     "output_type": "display_data"
    }
   ],
   "source": [
    "#time_spend_company\n",
    "bins = np.linspace(hr_data.time_spend_company.min(),hr_data.time_spend_company.max(),10)\n",
    "plt.hist(hr_data[\"time_spend_company\"][hr_data[\"left\"]==1],bins = bins, label = \"People left\", alpha = 0.7)\n",
    "plt.hist(hr_data[\"time_spend_company\"][hr_data[\"left\"]==0],bins = bins, label = \"People stayed\", alpha = 0.7)\n",
    "plt.legend(loc = \"best\")\n",
    "plt.xlim(hr_data.time_spend_company.min()-1,hr_data.time_spend_company.max()+1)\n",
    "plt.show()"
   ]
  },
  {
   "cell_type": "raw",
   "metadata": {
    "deletable": true,
    "editable": true
   },
   "source": [
    "People who worked in company for 3-5 years are more likely to leave the company. People who worked for more than 6 years stayed in the company. Promotions or privelages provided might be the possible reason for this."
   ]
  },
  {
   "cell_type": "code",
   "execution_count": 15,
   "metadata": {
    "collapsed": false,
    "deletable": true,
    "editable": true
   },
   "outputs": [
    {
     "data": {
      "image/png": "[encoded data removed]",
      "text/plain": [
       "<matplotlib.figure.Figure at 0x7f262680cdd8>"
      ]
     },
     "metadata": {},
     "output_type": "display_data"
    }
   ],
   "source": [
    "#Work_accident\n",
    "bins = np.linspace(hr_data.Work_accident.min(),hr_data.Work_accident.max(),10)\n",
    "plt.hist(hr_data[\"Work_accident\"][hr_data[\"left\"]==1],bins = bins, label = \"People left\", alpha = 0.7)\n",
    "plt.hist(hr_data[\"Work_accident\"][hr_data[\"left\"]==0],bins = bins, label = \"People stayed\", alpha = 0.7)\n",
    "plt.legend(loc = \"best\")\n",
    "plt.xlim(hr_data.Work_accident.min()-0.1,hr_data.Work_accident.max()+0.1)\n",
    "plt.show()"
   ]
  },
  {
   "cell_type": "raw",
   "metadata": {
    "deletable": true,
    "editable": true
   },
   "source": [
    "People with work accident are less likely to leave the company than people without work accident."
   ]
  },
  {
   "cell_type": "code",
   "execution_count": 16,
   "metadata": {
    "collapsed": false,
    "deletable": true,
    "editable": true
   },
   "outputs": [
    {
     "data": {
      "image/png": "[encoded data removed]",
      "text/plain": [
       "<matplotlib.figure.Figure at 0x7f2626ad1a20>"
      ]
     },
     "metadata": {},
     "output_type": "display_data"
    }
   ],
   "source": [
    "#promotion_last_5years\n",
    "bins = np.linspace(hr_data.promotion_last_5years.min(),hr_data.promotion_last_5years.max(),10)\n",
    "plt.hist(hr_data[\"promotion_last_5years\"][hr_data[\"left\"]==1],bins = bins, label = \"People left\", alpha = 0.7)\n",
    "plt.hist(hr_data[\"promotion_last_5years\"][hr_data[\"left\"]==0],bins = bins, label = \"People stayed\", alpha = 0.7)\n",
    "plt.legend(loc = \"best\")\n",
    "plt.xlim(hr_data.promotion_last_5years.min()-0.1,hr_data.promotion_last_5years.max()+0.1)\n",
    "plt.show()"
   ]
  },
  {
   "cell_type": "code",
   "execution_count": 17,
   "metadata": {
    "collapsed": false,
    "deletable": true,
    "editable": true
   },
   "outputs": [
    {
     "data": {
      "text/plain": [
       "2.1268084538969263"
      ]
     },
     "execution_count": 17,
     "metadata": {},
     "output_type": "execute_result"
    }
   ],
   "source": [
    "not_promoted, promoted = hr_data[\"promotion_last_5years\"].value_counts()\n",
    "percentage_employees_promoted = 100 * (promoted/(not_promoted + promoted))\n",
    "percentage_employees_promoted"
   ]
  },
  {
   "cell_type": "raw",
   "metadata": {
    "deletable": true,
    "editable": true
   },
   "source": [
    "Very few percentage of people were promoted and those promoted stayed in the company. Though promotion is a good incentive for people to stay back since very few people are promoted there is a less possibility that employees stay in company expecting a promotion."
   ]
  },
  {
   "cell_type": "code",
   "execution_count": 18,
   "metadata": {
    "collapsed": false,
    "deletable": true,
    "editable": true
   },
   "outputs": [
    {
     "data": {
      "text/plain": [
       "Index(['satisfaction_level', 'last_evaluation', 'number_project',\n",
       "       'average_montly_hours', 'time_spend_company', 'Work_accident', 'left',\n",
       "       'promotion_last_5years', 'department', 'salary'],\n",
       "      dtype='object')"
      ]
     },
     "execution_count": 18,
     "metadata": {},
     "output_type": "execute_result"
    }
   ],
   "source": [
    "hr_data.columns"
   ]
  },
  {
   "cell_type": "raw",
   "metadata": {
    "deletable": true,
    "editable": true
   },
   "source": [
    "By analysing each parameter individually with respect to the target, following conclusions can be drawn :\n",
    "1. People with higher are lower satisfaction levels are more likely to leave the company\n",
    "2. People with lower and higher evaluation scores are more likely to leave the company\n",
    "3. People with fewer and higer number of projects are more likely to leave the company\n",
    "4. People who spent higher and fewer hours in the company are more likely to leave\n",
    "5. People who had been working in company for more than 5 years are less likely to leave. Promotion can be a          possible explanation for this\n",
    "6. People with work accident are less likely to leave\n",
    "7. People who were promoted didn't leave the company but very few people were promoted in the last 5 years.\n",
    "8. People from hr and accounting departments are more likely to leave. People from management and RandD are less      likely to leave. Salary could be one posiible explanation for this trend\n",
    "9. People with high salary are less likely to leave"
   ]
  },
  {
   "cell_type": "raw",
   "metadata": {
    "deletable": true,
    "editable": true
   },
   "source": [
    "Following values can be considered as optimum values with respect to each parameter for an employee to stay :\n",
    "1. satisfaction_level : 0.5-0.7\n",
    "2. Last_evaluation score : 0.6-0.8\n",
    "3. Number of projects : 3-5\n",
    "4. Average monthly hours : 160-220\n",
    "5. No. of years in company : more than 6\n",
    "6. Work accident : 1 \n",
    "7. Promotion in last five years : 1 \n",
    "8. Departments : Management, RandD\n",
    "9. Salary : medium to high"
   ]
  },
  {
   "cell_type": "markdown",
   "metadata": {
    "deletable": true,
    "editable": true
   },
   "source": [
    "# Applying various Classification models"
   ]
  },
  {
   "cell_type": "code",
   "execution_count": 4,
   "metadata": {
    "collapsed": false,
    "deletable": true,
    "editable": true
   },
   "outputs": [],
   "source": [
    "X = hr_data.drop(\"left\", axis = 1)\n",
    "y = hr_data[\"left\"]"
   ]
  },
  {
   "cell_type": "code",
   "execution_count": 5,
   "metadata": {
    "collapsed": false,
    "deletable": true,
    "editable": true
   },
   "outputs": [
    {
     "data": {
      "text/html": [
       "<div>\n",
       "<table border=\"1\" class=\"dataframe\">\n",
       "  <thead>\n",
       "    <tr style=\"text-align: right;\">\n",
       "      <th></th>\n",
       "      <th>satisfaction_level</th>\n",
       "      <th>last_evaluation</th>\n",
       "      <th>number_project</th>\n",
       "      <th>average_montly_hours</th>\n",
       "      <th>time_spend_company</th>\n",
       "      <th>Work_accident</th>\n",
       "      <th>promotion_last_5years</th>\n",
       "      <th>high_salary</th>\n",
       "      <th>low_salary</th>\n",
       "      <th>hr</th>\n",
       "      <th>management</th>\n",
       "      <th>accounting</th>\n",
       "      <th>RandD</th>\n",
       "    </tr>\n",
       "  </thead>\n",
       "  <tbody>\n",
       "    <tr>\n",
       "      <th>0</th>\n",
       "      <td>0.38</td>\n",
       "      <td>0.53</td>\n",
       "      <td>2</td>\n",
       "      <td>157</td>\n",
       "      <td>3</td>\n",
       "      <td>0</td>\n",
       "      <td>0</td>\n",
       "      <td>0</td>\n",
       "      <td>1</td>\n",
       "      <td>0</td>\n",
       "      <td>0</td>\n",
       "      <td>0</td>\n",
       "      <td>0</td>\n",
       "    </tr>\n",
       "    <tr>\n",
       "      <th>1</th>\n",
       "      <td>0.80</td>\n",
       "      <td>0.86</td>\n",
       "      <td>5</td>\n",
       "      <td>262</td>\n",
       "      <td>6</td>\n",
       "      <td>0</td>\n",
       "      <td>0</td>\n",
       "      <td>0</td>\n",
       "      <td>0</td>\n",
       "      <td>0</td>\n",
       "      <td>0</td>\n",
       "      <td>0</td>\n",
       "      <td>0</td>\n",
       "    </tr>\n",
       "    <tr>\n",
       "      <th>2</th>\n",
       "      <td>0.11</td>\n",
       "      <td>0.88</td>\n",
       "      <td>7</td>\n",
       "      <td>272</td>\n",
       "      <td>4</td>\n",
       "      <td>0</td>\n",
       "      <td>0</td>\n",
       "      <td>0</td>\n",
       "      <td>0</td>\n",
       "      <td>0</td>\n",
       "      <td>0</td>\n",
       "      <td>0</td>\n",
       "      <td>0</td>\n",
       "    </tr>\n",
       "  </tbody>\n",
       "</table>\n",
       "</div>"
      ],
      "text/plain": [
       "   satisfaction_level  last_evaluation  number_project  average_montly_hours  \\\n",
       "0                0.38             0.53               2                   157   \n",
       "1                0.80             0.86               5                   262   \n",
       "2                0.11             0.88               7                   272   \n",
       "\n",
       "   time_spend_company  Work_accident  promotion_last_5years  high_salary  \\\n",
       "0                   3              0                      0            0   \n",
       "1                   6              0                      0            0   \n",
       "2                   4              0                      0            0   \n",
       "\n",
       "   low_salary  hr  management  accounting  RandD  \n",
       "0           1   0           0           0      0  \n",
       "1           0   0           0           0      0  \n",
       "2           0   0           0           0      0  "
      ]
     },
     "execution_count": 5,
     "metadata": {},
     "output_type": "execute_result"
    }
   ],
   "source": [
    "#Replacing strings with values for calculations\n",
    "salary_dummies = pd.get_dummies(hr_data[\"salary\"])\n",
    "X[\"high_salary\"] = salary_dummies[\"high\"]\n",
    "X[\"low_salary\"] = salary_dummies[\"low\"]\n",
    "X.drop(\"salary\", axis = 1, inplace = True)\n",
    "department_dummies = pd.get_dummies(hr_data[\"department\"])\n",
    "X[\"hr\"] = department_dummies[\"hr\"]\n",
    "X[\"management\"] = department_dummies[\"management\"]\n",
    "X[\"accounting\"] = department_dummies[\"accounting\"]\n",
    "X[\"RandD\"] = department_dummies[\"RandD\"]\n",
    "X.drop(\"department\", axis = 1, inplace = True)\n",
    "X.head(3)"
   ]
  },
  {
   "cell_type": "code",
   "execution_count": 6,
   "metadata": {
    "collapsed": true,
    "deletable": true,
    "editable": true
   },
   "outputs": [],
   "source": [
    "#Splitting data into training set and test set\n",
    "from sklearn.model_selection import train_test_split\n",
    "X_train,X_test,y_train,y_test = train_test_split(X,y, test_size = 0.3, random_state = 0)"
   ]
  },
  {
   "cell_type": "code",
   "execution_count": 7,
   "metadata": {
    "collapsed": true,
    "deletable": true,
    "editable": true
   },
   "outputs": [],
   "source": [
    "#Standardising values to mean = 0, standard deviation = 1\n",
    "from sklearn.preprocessing import StandardScaler\n",
    "std = StandardScaler()\n",
    "X_train = std.fit_transform(X_train)\n",
    "X_test = std.transform(X_test)\n",
    "X_std = std.transform(X)"
   ]
  },
  {
   "cell_type": "code",
   "execution_count": 8,
   "metadata": {
    "collapsed": true,
    "deletable": true,
    "editable": true
   },
   "outputs": [],
   "source": [
    "from sklearn.model_selection import ShuffleSplit\n",
    "cv = ShuffleSplit(n_splits = 20, test_size = 0.2)"
   ]
  },
  {
   "cell_type": "markdown",
   "metadata": {
    "deletable": true,
    "editable": true
   },
   "source": [
    "# Applying Logistic Regression"
   ]
  },
  {
   "cell_type": "code",
   "execution_count": 24,
   "metadata": {
    "collapsed": true,
    "deletable": true,
    "editable": true
   },
   "outputs": [],
   "source": [
    "from sklearn.linear_model import LogisticRegression\n",
    "classifier = LogisticRegression()"
   ]
  },
  {
   "cell_type": "code",
   "execution_count": 25,
   "metadata": {
    "collapsed": false,
    "deletable": true,
    "editable": true
   },
   "outputs": [
    {
     "data": {
      "text/plain": [
       "GridSearchCV(cv=ShuffleSplit(n_splits=20, random_state=None, test_size=0.2, train_size=None),\n",
       "       error_score='raise',\n",
       "       estimator=LogisticRegression(C=1.0, class_weight=None, dual=False, fit_intercept=True,\n",
       "          intercept_scaling=1, max_iter=100, multi_class='ovr', n_jobs=1,\n",
       "          penalty='l2', random_state=None, solver='liblinear', tol=0.0001,\n",
       "          verbose=0, warm_start=False),\n",
       "       fit_params={}, iid=True, n_jobs=1,\n",
       "       param_grid={'C': [0.01, 0.1, 1, 10, 100], 'penalty': ['l1', 'l2']},\n",
       "       pre_dispatch='2*n_jobs', refit=True, return_train_score=True,\n",
       "       scoring=None, verbose=0)"
      ]
     },
     "execution_count": 25,
     "metadata": {},
     "output_type": "execute_result"
    }
   ],
   "source": [
    "from sklearn.model_selection import GridSearchCV\n",
    "parameters = {\"C\":[0.01,0.1,1,10,100], \"penalty\":[\"l1\",\"l2\"]}\n",
    "log_reg = GridSearchCV(classifier,param_grid = parameters, cv = cv)\n",
    "log_reg.fit(X_train,y_train)"
   ]
  },
  {
   "cell_type": "code",
   "execution_count": 26,
   "metadata": {
    "collapsed": false,
    "deletable": true,
    "editable": true
   },
   "outputs": [
    {
     "data": {
      "text/plain": [
       "{'C': 100, 'penalty': 'l1'}"
      ]
     },
     "execution_count": 26,
     "metadata": {},
     "output_type": "execute_result"
    }
   ],
   "source": [
    "log_reg.best_params_"
   ]
  },
  {
   "cell_type": "code",
   "execution_count": 27,
   "metadata": {
    "collapsed": false,
    "deletable": true,
    "editable": true
   },
   "outputs": [
    {
     "data": {
      "text/plain": [
       "0.7874523809523809"
      ]
     },
     "execution_count": 27,
     "metadata": {},
     "output_type": "execute_result"
    }
   ],
   "source": [
    "log_reg.best_score_"
   ]
  },
  {
   "cell_type": "code",
   "execution_count": 28,
   "metadata": {
    "collapsed": false,
    "deletable": true,
    "editable": true
   },
   "outputs": [
    {
     "data": {
      "text/plain": [
       "0.79466666666666663"
      ]
     },
     "execution_count": 28,
     "metadata": {},
     "output_type": "execute_result"
    }
   ],
   "source": [
    "log_reg_best = log_reg.best_estimator_\n",
    "log_reg_best.score(X_test,y_test)"
   ]
  },
  {
   "cell_type": "code",
   "execution_count": 29,
   "metadata": {
    "collapsed": false,
    "deletable": true,
    "editable": true
   },
   "outputs": [
    {
     "data": {
      "text/html": [
       "<div>\n",
       "<table border=\"1\" class=\"dataframe\">\n",
       "  <thead>\n",
       "    <tr style=\"text-align: right;\">\n",
       "      <th></th>\n",
       "      <th>Features</th>\n",
       "      <th>Coefficients</th>\n",
       "    </tr>\n",
       "  </thead>\n",
       "  <tbody>\n",
       "    <tr>\n",
       "      <th>4</th>\n",
       "      <td>time_spend_company</td>\n",
       "      <td>0.400503</td>\n",
       "    </tr>\n",
       "    <tr>\n",
       "      <th>8</th>\n",
       "      <td>low_salary</td>\n",
       "      <td>0.266895</td>\n",
       "    </tr>\n",
       "    <tr>\n",
       "      <th>3</th>\n",
       "      <td>average_montly_hours</td>\n",
       "      <td>0.228525</td>\n",
       "    </tr>\n",
       "    <tr>\n",
       "      <th>1</th>\n",
       "      <td>last_evaluation</td>\n",
       "      <td>0.109392</td>\n",
       "    </tr>\n",
       "    <tr>\n",
       "      <th>9</th>\n",
       "      <td>hr</td>\n",
       "      <td>0.056957</td>\n",
       "    </tr>\n",
       "    <tr>\n",
       "      <th>11</th>\n",
       "      <td>accounting</td>\n",
       "      <td>-0.000677</td>\n",
       "    </tr>\n",
       "    <tr>\n",
       "      <th>10</th>\n",
       "      <td>management</td>\n",
       "      <td>-0.073431</td>\n",
       "    </tr>\n",
       "    <tr>\n",
       "      <th>12</th>\n",
       "      <td>RandD</td>\n",
       "      <td>-0.137579</td>\n",
       "    </tr>\n",
       "    <tr>\n",
       "      <th>6</th>\n",
       "      <td>promotion_last_5years</td>\n",
       "      <td>-0.202911</td>\n",
       "    </tr>\n",
       "    <tr>\n",
       "      <th>2</th>\n",
       "      <td>number_project</td>\n",
       "      <td>-0.379716</td>\n",
       "    </tr>\n",
       "    <tr>\n",
       "      <th>7</th>\n",
       "      <td>high_salary</td>\n",
       "      <td>-0.390474</td>\n",
       "    </tr>\n",
       "    <tr>\n",
       "      <th>5</th>\n",
       "      <td>Work_accident</td>\n",
       "      <td>-0.516510</td>\n",
       "    </tr>\n",
       "    <tr>\n",
       "      <th>0</th>\n",
       "      <td>satisfaction_level</td>\n",
       "      <td>-1.018145</td>\n",
       "    </tr>\n",
       "  </tbody>\n",
       "</table>\n",
       "</div>"
      ],
      "text/plain": [
       "                 Features  Coefficients\n",
       "4      time_spend_company      0.400503\n",
       "8              low_salary      0.266895\n",
       "3    average_montly_hours      0.228525\n",
       "1         last_evaluation      0.109392\n",
       "9                      hr      0.056957\n",
       "11             accounting     -0.000677\n",
       "10             management     -0.073431\n",
       "12                  RandD     -0.137579\n",
       "6   promotion_last_5years     -0.202911\n",
       "2          number_project     -0.379716\n",
       "7             high_salary     -0.390474\n",
       "5           Work_accident     -0.516510\n",
       "0      satisfaction_level     -1.018145"
      ]
     },
     "execution_count": 29,
     "metadata": {},
     "output_type": "execute_result"
    }
   ],
   "source": [
    "log_reg_coef = pd.DataFrame({\"Features\":np.array(X.columns).reshape(13,),\"Coefficients\":log_reg_best.coef_.reshape(13,)})\n",
    "log_reg_coef = log_reg_coef.reindex(columns = [\"Features\",\"Coefficients\"])\n",
    "log_reg_coef.sort_values(by = \"Coefficients\", ascending = False)"
   ]
  },
  {
   "cell_type": "raw",
   "metadata": {
    "deletable": true,
    "editable": true
   },
   "source": [
    "Accuracy of logistic regression model is very low. "
   ]
  },
  {
   "cell_type": "markdown",
   "metadata": {
    "deletable": true,
    "editable": true
   },
   "source": [
    "# Applying KNearest Neighbors Classifier"
   ]
  },
  {
   "cell_type": "code",
   "execution_count": 30,
   "metadata": {
    "collapsed": false,
    "deletable": true,
    "editable": true
   },
   "outputs": [],
   "source": [
    "score_uniform = {}\n",
    "for i in range(1,20):\n",
    "    from sklearn.neighbors import KNeighborsClassifier\n",
    "    knn = KNeighborsClassifier(n_neighbors = i)\n",
    "    knn.fit(X_train,y_train)\n",
    "    score_uniform[i] = knn.score(X_test,y_test)"
   ]
  },
  {
   "cell_type": "code",
   "execution_count": 31,
   "metadata": {
    "collapsed": false,
    "deletable": true,
    "editable": true
   },
   "outputs": [],
   "source": [
    "score_distance = {}\n",
    "for i in range(1,20):\n",
    "    from sklearn.neighbors import KNeighborsClassifier\n",
    "    knn = KNeighborsClassifier(n_neighbors = i, weights = \"distance\")\n",
    "    knn.fit(X_train,y_train)\n",
    "    score_distance[i] = knn.score(X_test,y_test)"
   ]
  },
  {
   "cell_type": "code",
   "execution_count": 32,
   "metadata": {
    "collapsed": false,
    "deletable": true,
    "editable": true
   },
   "outputs": [
    {
     "data": {
      "text/html": [
       "<div>\n",
       "<table border=\"1\" class=\"dataframe\">\n",
       "  <thead>\n",
       "    <tr style=\"text-align: right;\">\n",
       "      <th></th>\n",
       "      <th>score_distance</th>\n",
       "      <th>score_uniform</th>\n",
       "    </tr>\n",
       "    <tr>\n",
       "      <th>No. of Neighbors</th>\n",
       "      <th></th>\n",
       "      <th></th>\n",
       "    </tr>\n",
       "  </thead>\n",
       "  <tbody>\n",
       "    <tr>\n",
       "      <th>1</th>\n",
       "      <td>0.968222</td>\n",
       "      <td>0.968222</td>\n",
       "    </tr>\n",
       "    <tr>\n",
       "      <th>2</th>\n",
       "      <td>0.968222</td>\n",
       "      <td>0.966889</td>\n",
       "    </tr>\n",
       "    <tr>\n",
       "      <th>3</th>\n",
       "      <td>0.970667</td>\n",
       "      <td>0.961111</td>\n",
       "    </tr>\n",
       "    <tr>\n",
       "      <th>4</th>\n",
       "      <td>0.971778</td>\n",
       "      <td>0.960000</td>\n",
       "    </tr>\n",
       "    <tr>\n",
       "      <th>5</th>\n",
       "      <td>0.972444</td>\n",
       "      <td>0.954444</td>\n",
       "    </tr>\n",
       "    <tr>\n",
       "      <th>6</th>\n",
       "      <td>0.972889</td>\n",
       "      <td>0.957333</td>\n",
       "    </tr>\n",
       "    <tr>\n",
       "      <th>7</th>\n",
       "      <td>0.970667</td>\n",
       "      <td>0.952667</td>\n",
       "    </tr>\n",
       "    <tr>\n",
       "      <th>8</th>\n",
       "      <td>0.970889</td>\n",
       "      <td>0.953556</td>\n",
       "    </tr>\n",
       "    <tr>\n",
       "      <th>9</th>\n",
       "      <td>0.971333</td>\n",
       "      <td>0.951111</td>\n",
       "    </tr>\n",
       "    <tr>\n",
       "      <th>10</th>\n",
       "      <td>0.970889</td>\n",
       "      <td>0.952000</td>\n",
       "    </tr>\n",
       "    <tr>\n",
       "      <th>11</th>\n",
       "      <td>0.970889</td>\n",
       "      <td>0.949778</td>\n",
       "    </tr>\n",
       "    <tr>\n",
       "      <th>12</th>\n",
       "      <td>0.970444</td>\n",
       "      <td>0.950889</td>\n",
       "    </tr>\n",
       "    <tr>\n",
       "      <th>13</th>\n",
       "      <td>0.970444</td>\n",
       "      <td>0.948667</td>\n",
       "    </tr>\n",
       "    <tr>\n",
       "      <th>14</th>\n",
       "      <td>0.970444</td>\n",
       "      <td>0.948000</td>\n",
       "    </tr>\n",
       "    <tr>\n",
       "      <th>15</th>\n",
       "      <td>0.970667</td>\n",
       "      <td>0.946444</td>\n",
       "    </tr>\n",
       "    <tr>\n",
       "      <th>16</th>\n",
       "      <td>0.969778</td>\n",
       "      <td>0.947333</td>\n",
       "    </tr>\n",
       "    <tr>\n",
       "      <th>17</th>\n",
       "      <td>0.969333</td>\n",
       "      <td>0.946444</td>\n",
       "    </tr>\n",
       "    <tr>\n",
       "      <th>18</th>\n",
       "      <td>0.969111</td>\n",
       "      <td>0.947333</td>\n",
       "    </tr>\n",
       "    <tr>\n",
       "      <th>19</th>\n",
       "      <td>0.970000</td>\n",
       "      <td>0.946222</td>\n",
       "    </tr>\n",
       "  </tbody>\n",
       "</table>\n",
       "</div>"
      ],
      "text/plain": [
       "                  score_distance  score_uniform\n",
       "No. of Neighbors                               \n",
       "1                       0.968222       0.968222\n",
       "2                       0.968222       0.966889\n",
       "3                       0.970667       0.961111\n",
       "4                       0.971778       0.960000\n",
       "5                       0.972444       0.954444\n",
       "6                       0.972889       0.957333\n",
       "7                       0.970667       0.952667\n",
       "8                       0.970889       0.953556\n",
       "9                       0.971333       0.951111\n",
       "10                      0.970889       0.952000\n",
       "11                      0.970889       0.949778\n",
       "12                      0.970444       0.950889\n",
       "13                      0.970444       0.948667\n",
       "14                      0.970444       0.948000\n",
       "15                      0.970667       0.946444\n",
       "16                      0.969778       0.947333\n",
       "17                      0.969333       0.946444\n",
       "18                      0.969111       0.947333\n",
       "19                      0.970000       0.946222"
      ]
     },
     "execution_count": 32,
     "metadata": {},
     "output_type": "execute_result"
    }
   ],
   "source": [
    "KNN = pd.DataFrame({\"score_distance\":score_distance,\"score_uniform\":score_uniform}, index = range(1,20))\n",
    "KNN.index.name = \"No. of Neighbors\"\n",
    "best_distance, best_uniform = KNN[\"score_distance\"].max(),KNN[\"score_uniform\"].max()\n",
    "KNN"
   ]
  },
  {
   "cell_type": "code",
   "execution_count": 33,
   "metadata": {
    "collapsed": false,
    "deletable": true,
    "editable": true
   },
   "outputs": [
    {
     "data": {
      "text/plain": [
       "(0.97288888888888891, 0.96822222222222221)"
      ]
     },
     "execution_count": 33,
     "metadata": {},
     "output_type": "execute_result"
    }
   ],
   "source": [
    "best_distance, best_uniform"
   ]
  },
  {
   "cell_type": "raw",
   "metadata": {
    "deletable": true,
    "editable": true
   },
   "source": [
    "KNN model gave best accuracy of 97.3% for neighbors = 6, weights = \"distance\" "
   ]
  },
  {
   "cell_type": "code",
   "execution_count": 34,
   "metadata": {
    "collapsed": false,
    "deletable": true,
    "editable": true
   },
   "outputs": [],
   "source": [
    "KNN_best = KNeighborsClassifier(n_neighbors = 6, weights = \"distance\")\n",
    "KNN_best.fit(X_train,y_train)\n",
    "y_pred = KNN_best.predict(X_std)"
   ]
  },
  {
   "cell_type": "code",
   "execution_count": 35,
   "metadata": {
    "collapsed": false,
    "deletable": true,
    "editable": true
   },
   "outputs": [
    {
     "data": {
      "text/plain": [
       "[]"
      ]
     },
     "execution_count": 35,
     "metadata": {},
     "output_type": "execute_result"
    }
   ],
   "source": [
    "knn_pred = pd.DataFrame({\"y\":y,\"y_pred\":y_pred})\n",
    "index = []\n",
    "for i in range(len(y)):\n",
    "    if knn_pred.y[i] == 0 & knn_pred.y_pred[i]==1:\n",
    "        index.append(i)\n",
    "index"
   ]
  },
  {
   "cell_type": "raw",
   "metadata": {
    "deletable": true,
    "editable": true
   },
   "source": [
    "When KNN classifier is used to predict the values of y for all values of X, it showed 100% accuracy in predicting people who stayed. So it is not helpful in predicting who might leave next."
   ]
  },
  {
   "cell_type": "markdown",
   "metadata": {
    "collapsed": true,
    "deletable": true,
    "editable": true
   },
   "source": [
    "# Applying RandomForestClassifier"
   ]
  },
  {
   "cell_type": "code",
   "execution_count": 9,
   "metadata": {
    "collapsed": true,
    "deletable": true,
    "editable": true
   },
   "outputs": [],
   "source": [
    "from sklearn.ensemble import RandomForestClassifier\n",
    "rfc = RandomForestClassifier()"
   ]
  },
  {
   "cell_type": "code",
   "execution_count": 10,
   "metadata": {
    "collapsed": false,
    "deletable": true,
    "editable": true
   },
   "outputs": [
    {
     "data": {
      "text/plain": [
       "GridSearchCV(cv=ShuffleSplit(n_splits=20, random_state=None, test_size=0.2, train_size=None),\n",
       "       error_score='raise',\n",
       "       estimator=RandomForestClassifier(bootstrap=True, class_weight=None, criterion='gini',\n",
       "            max_depth=None, max_features='auto', max_leaf_nodes=None,\n",
       "            min_impurity_split=1e-07, min_samples_leaf=1,\n",
       "            min_samples_split=2, min_weight_fraction_leaf=0.0,\n",
       "            n_estimators=10, n_jobs=1, oob_score=False, random_state=None,\n",
       "            verbose=0, warm_start=False),\n",
       "       fit_params={}, iid=True, n_jobs=1,\n",
       "       param_grid={'n_estimators': range(10, 100)},\n",
       "       pre_dispatch='2*n_jobs', refit=True, return_train_score=True,\n",
       "       scoring=None, verbose=0)"
      ]
     },
     "execution_count": 10,
     "metadata": {},
     "output_type": "execute_result"
    }
   ],
   "source": [
    "from sklearn.model_selection import GridSearchCV\n",
    "parameters = {\"n_estimators\":range(10,100)}\n",
    "RFC = GridSearchCV(rfc, param_grid = parameters, cv = cv)\n",
    "RFC.fit(X_train,y_train)"
   ]
  },
  {
   "cell_type": "code",
   "execution_count": 11,
   "metadata": {
    "collapsed": false,
    "deletable": true,
    "editable": true
   },
   "outputs": [
    {
     "data": {
      "text/plain": [
       "{'n_estimators': 95}"
      ]
     },
     "execution_count": 11,
     "metadata": {},
     "output_type": "execute_result"
    }
   ],
   "source": [
    "RFC.best_params_"
   ]
  },
  {
   "cell_type": "code",
   "execution_count": 12,
   "metadata": {
    "collapsed": false,
    "deletable": true,
    "editable": true
   },
   "outputs": [
    {
     "data": {
      "text/plain": [
       "0.98869047619047623"
      ]
     },
     "execution_count": 12,
     "metadata": {},
     "output_type": "execute_result"
    }
   ],
   "source": [
    "RFC.best_score_"
   ]
  },
  {
   "cell_type": "code",
   "execution_count": 13,
   "metadata": {
    "collapsed": true,
    "deletable": true,
    "editable": true
   },
   "outputs": [],
   "source": [
    "RFC_best = RFC.best_estimator_"
   ]
  },
  {
   "cell_type": "code",
   "execution_count": 14,
   "metadata": {
    "collapsed": false,
    "deletable": true,
    "editable": true
   },
   "outputs": [
    {
     "data": {
      "text/plain": [
       "0.98977777777777776"
      ]
     },
     "execution_count": 14,
     "metadata": {},
     "output_type": "execute_result"
    }
   ],
   "source": [
    "RFC_best.fit(X_train,y_train)\n",
    "RFC_best.score(X_test,y_test)"
   ]
  },
  {
   "cell_type": "code",
   "execution_count": 15,
   "metadata": {
    "collapsed": true,
    "deletable": true,
    "editable": true
   },
   "outputs": [],
   "source": [
    "y_pred = RFC_best.predict(X_std)"
   ]
  },
  {
   "cell_type": "code",
   "execution_count": 16,
   "metadata": {
    "collapsed": false,
    "deletable": true,
    "editable": true
   },
   "outputs": [
    {
     "data": {
      "text/plain": [
       "[]"
      ]
     },
     "execution_count": 16,
     "metadata": {},
     "output_type": "execute_result"
    }
   ],
   "source": [
    "RFC_pred = pd.DataFrame({\"y\":y,\"y_pred\":y_pred})\n",
    "index = []\n",
    "for i in range(len(y)):\n",
    "    if RFC_pred.y[i] == 0 & RFC_pred.y_pred[i]==1:\n",
    "        index.append(i)\n",
    "index"
   ]
  },
  {
   "cell_type": "code",
   "execution_count": 17,
   "metadata": {
    "collapsed": false,
    "deletable": true,
    "editable": true
   },
   "outputs": [
    {
     "data": {
      "text/html": [
       "<div>\n",
       "<table border=\"1\" class=\"dataframe\">\n",
       "  <thead>\n",
       "    <tr style=\"text-align: right;\">\n",
       "      <th></th>\n",
       "      <th>Features</th>\n",
       "      <th>Feature_scores</th>\n",
       "    </tr>\n",
       "  </thead>\n",
       "  <tbody>\n",
       "    <tr>\n",
       "      <th>0</th>\n",
       "      <td>satisfaction_level</td>\n",
       "      <td>0.290016</td>\n",
       "    </tr>\n",
       "    <tr>\n",
       "      <th>2</th>\n",
       "      <td>number_project</td>\n",
       "      <td>0.197996</td>\n",
       "    </tr>\n",
       "    <tr>\n",
       "      <th>4</th>\n",
       "      <td>time_spend_company</td>\n",
       "      <td>0.182798</td>\n",
       "    </tr>\n",
       "    <tr>\n",
       "      <th>3</th>\n",
       "      <td>average_montly_hours</td>\n",
       "      <td>0.165284</td>\n",
       "    </tr>\n",
       "    <tr>\n",
       "      <th>1</th>\n",
       "      <td>last_evaluation</td>\n",
       "      <td>0.132200</td>\n",
       "    </tr>\n",
       "    <tr>\n",
       "      <th>8</th>\n",
       "      <td>low_salary</td>\n",
       "      <td>0.008826</td>\n",
       "    </tr>\n",
       "    <tr>\n",
       "      <th>5</th>\n",
       "      <td>Work_accident</td>\n",
       "      <td>0.008594</td>\n",
       "    </tr>\n",
       "    <tr>\n",
       "      <th>7</th>\n",
       "      <td>high_salary</td>\n",
       "      <td>0.004944</td>\n",
       "    </tr>\n",
       "    <tr>\n",
       "      <th>11</th>\n",
       "      <td>accounting</td>\n",
       "      <td>0.002082</td>\n",
       "    </tr>\n",
       "    <tr>\n",
       "      <th>12</th>\n",
       "      <td>RandD</td>\n",
       "      <td>0.002077</td>\n",
       "    </tr>\n",
       "    <tr>\n",
       "      <th>9</th>\n",
       "      <td>hr</td>\n",
       "      <td>0.001783</td>\n",
       "    </tr>\n",
       "    <tr>\n",
       "      <th>10</th>\n",
       "      <td>management</td>\n",
       "      <td>0.001724</td>\n",
       "    </tr>\n",
       "    <tr>\n",
       "      <th>6</th>\n",
       "      <td>promotion_last_5years</td>\n",
       "      <td>0.001677</td>\n",
       "    </tr>\n",
       "  </tbody>\n",
       "</table>\n",
       "</div>"
      ],
      "text/plain": [
       "                 Features  Feature_scores\n",
       "0      satisfaction_level        0.290016\n",
       "2          number_project        0.197996\n",
       "4      time_spend_company        0.182798\n",
       "3    average_montly_hours        0.165284\n",
       "1         last_evaluation        0.132200\n",
       "8              low_salary        0.008826\n",
       "5           Work_accident        0.008594\n",
       "7             high_salary        0.004944\n",
       "11             accounting        0.002082\n",
       "12                  RandD        0.002077\n",
       "9                      hr        0.001783\n",
       "10             management        0.001724\n",
       "6   promotion_last_5years        0.001677"
      ]
     },
     "execution_count": 17,
     "metadata": {},
     "output_type": "execute_result"
    }
   ],
   "source": [
    "RFC_scores = pd.DataFrame({\"Feature_scores\":RFC_best.feature_importances_,\"Features\":np.array(X.columns)})\n",
    "RFC_scores.sort_values(by = \"Feature_scores\", ascending = False, inplace = True)\n",
    "RFC_scores.reindex(columns = [\"Features\",\"Feature_scores\"])"
   ]
  },
  {
   "cell_type": "code",
   "execution_count": 18,
   "metadata": {
    "collapsed": false,
    "deletable": true,
    "editable": true
   },
   "outputs": [
    {
     "data": {
      "text/plain": [
       "0.96829445099824341"
      ]
     },
     "execution_count": 18,
     "metadata": {},
     "output_type": "execute_result"
    }
   ],
   "source": [
    "RFC_scores[\"Feature_scores\"][:5].sum()"
   ]
  },
  {
   "cell_type": "raw",
   "metadata": {
    "deletable": true,
    "editable": true
   },
   "source": [
    "Random Forest Classifier showed best accuracy of 99% for 68 estimatiors. But it also failed to predict the probability of people who might leave next. According to Random Forest Classifier, out of 13 features 5 features can explain nearly 97% of the data. This indicates that dimensions of the data can be reduced significantly with little compromise in the accuracy. "
   ]
  },
  {
   "cell_type": "code",
   "execution_count": 19,
   "metadata": {
    "collapsed": false,
    "deletable": true,
    "editable": true
   },
   "outputs": [],
   "source": [
    "y_pred_rfc = RFC_best.predict_proba(X_std[y==0])"
   ]
  },
  {
   "cell_type": "code",
   "execution_count": 23,
   "metadata": {
    "collapsed": false,
    "deletable": true,
    "editable": true
   },
   "outputs": [
    {
     "data": {
      "text/html": [
       "<div>\n",
       "<table border=\"1\" class=\"dataframe\">\n",
       "  <thead>\n",
       "    <tr style=\"text-align: right;\">\n",
       "      <th></th>\n",
       "      <th>Class_0_prob</th>\n",
       "      <th>Class_1_prob</th>\n",
       "    </tr>\n",
       "  </thead>\n",
       "  <tbody>\n",
       "    <tr>\n",
       "      <th>0</th>\n",
       "      <td>1.000000</td>\n",
       "      <td>0.000000</td>\n",
       "    </tr>\n",
       "    <tr>\n",
       "      <th>7024</th>\n",
       "      <td>1.000000</td>\n",
       "      <td>0.000000</td>\n",
       "    </tr>\n",
       "    <tr>\n",
       "      <th>7015</th>\n",
       "      <td>1.000000</td>\n",
       "      <td>0.000000</td>\n",
       "    </tr>\n",
       "    <tr>\n",
       "      <th>7016</th>\n",
       "      <td>1.000000</td>\n",
       "      <td>0.000000</td>\n",
       "    </tr>\n",
       "    <tr>\n",
       "      <th>7017</th>\n",
       "      <td>1.000000</td>\n",
       "      <td>0.000000</td>\n",
       "    </tr>\n",
       "    <tr>\n",
       "      <th>7018</th>\n",
       "      <td>1.000000</td>\n",
       "      <td>0.000000</td>\n",
       "    </tr>\n",
       "    <tr>\n",
       "      <th>7019</th>\n",
       "      <td>1.000000</td>\n",
       "      <td>0.000000</td>\n",
       "    </tr>\n",
       "    <tr>\n",
       "      <th>7022</th>\n",
       "      <td>1.000000</td>\n",
       "      <td>0.000000</td>\n",
       "    </tr>\n",
       "    <tr>\n",
       "      <th>7025</th>\n",
       "      <td>1.000000</td>\n",
       "      <td>0.000000</td>\n",
       "    </tr>\n",
       "    <tr>\n",
       "      <th>7008</th>\n",
       "      <td>1.000000</td>\n",
       "      <td>0.000000</td>\n",
       "    </tr>\n",
       "    <tr>\n",
       "      <th>7026</th>\n",
       "      <td>1.000000</td>\n",
       "      <td>0.000000</td>\n",
       "    </tr>\n",
       "    <tr>\n",
       "      <th>7028</th>\n",
       "      <td>1.000000</td>\n",
       "      <td>0.000000</td>\n",
       "    </tr>\n",
       "    <tr>\n",
       "      <th>7029</th>\n",
       "      <td>1.000000</td>\n",
       "      <td>0.000000</td>\n",
       "    </tr>\n",
       "    <tr>\n",
       "      <th>7030</th>\n",
       "      <td>1.000000</td>\n",
       "      <td>0.000000</td>\n",
       "    </tr>\n",
       "    <tr>\n",
       "      <th>7031</th>\n",
       "      <td>1.000000</td>\n",
       "      <td>0.000000</td>\n",
       "    </tr>\n",
       "    <tr>\n",
       "      <th>7034</th>\n",
       "      <td>1.000000</td>\n",
       "      <td>0.000000</td>\n",
       "    </tr>\n",
       "    <tr>\n",
       "      <th>7012</th>\n",
       "      <td>1.000000</td>\n",
       "      <td>0.000000</td>\n",
       "    </tr>\n",
       "    <tr>\n",
       "      <th>7007</th>\n",
       "      <td>1.000000</td>\n",
       "      <td>0.000000</td>\n",
       "    </tr>\n",
       "    <tr>\n",
       "      <th>7037</th>\n",
       "      <td>1.000000</td>\n",
       "      <td>0.000000</td>\n",
       "    </tr>\n",
       "    <tr>\n",
       "      <th>6990</th>\n",
       "      <td>1.000000</td>\n",
       "      <td>0.000000</td>\n",
       "    </tr>\n",
       "    <tr>\n",
       "      <th>6977</th>\n",
       "      <td>1.000000</td>\n",
       "      <td>0.000000</td>\n",
       "    </tr>\n",
       "    <tr>\n",
       "      <th>6978</th>\n",
       "      <td>1.000000</td>\n",
       "      <td>0.000000</td>\n",
       "    </tr>\n",
       "    <tr>\n",
       "      <th>6979</th>\n",
       "      <td>1.000000</td>\n",
       "      <td>0.000000</td>\n",
       "    </tr>\n",
       "    <tr>\n",
       "      <th>6981</th>\n",
       "      <td>1.000000</td>\n",
       "      <td>0.000000</td>\n",
       "    </tr>\n",
       "    <tr>\n",
       "      <th>6984</th>\n",
       "      <td>1.000000</td>\n",
       "      <td>0.000000</td>\n",
       "    </tr>\n",
       "    <tr>\n",
       "      <th>6988</th>\n",
       "      <td>1.000000</td>\n",
       "      <td>0.000000</td>\n",
       "    </tr>\n",
       "    <tr>\n",
       "      <th>6991</th>\n",
       "      <td>1.000000</td>\n",
       "      <td>0.000000</td>\n",
       "    </tr>\n",
       "    <tr>\n",
       "      <th>7002</th>\n",
       "      <td>1.000000</td>\n",
       "      <td>0.000000</td>\n",
       "    </tr>\n",
       "    <tr>\n",
       "      <th>6993</th>\n",
       "      <td>1.000000</td>\n",
       "      <td>0.000000</td>\n",
       "    </tr>\n",
       "    <tr>\n",
       "      <th>6994</th>\n",
       "      <td>1.000000</td>\n",
       "      <td>0.000000</td>\n",
       "    </tr>\n",
       "    <tr>\n",
       "      <th>...</th>\n",
       "      <td>...</td>\n",
       "      <td>...</td>\n",
       "    </tr>\n",
       "    <tr>\n",
       "      <th>3994</th>\n",
       "      <td>0.673684</td>\n",
       "      <td>0.326316</td>\n",
       "    </tr>\n",
       "    <tr>\n",
       "      <th>1595</th>\n",
       "      <td>0.663158</td>\n",
       "      <td>0.336842</td>\n",
       "    </tr>\n",
       "    <tr>\n",
       "      <th>2534</th>\n",
       "      <td>0.663158</td>\n",
       "      <td>0.336842</td>\n",
       "    </tr>\n",
       "    <tr>\n",
       "      <th>3831</th>\n",
       "      <td>0.663158</td>\n",
       "      <td>0.336842</td>\n",
       "    </tr>\n",
       "    <tr>\n",
       "      <th>7781</th>\n",
       "      <td>0.663158</td>\n",
       "      <td>0.336842</td>\n",
       "    </tr>\n",
       "    <tr>\n",
       "      <th>4184</th>\n",
       "      <td>0.663158</td>\n",
       "      <td>0.336842</td>\n",
       "    </tr>\n",
       "    <tr>\n",
       "      <th>4358</th>\n",
       "      <td>0.652632</td>\n",
       "      <td>0.347368</td>\n",
       "    </tr>\n",
       "    <tr>\n",
       "      <th>8671</th>\n",
       "      <td>0.642105</td>\n",
       "      <td>0.357895</td>\n",
       "    </tr>\n",
       "    <tr>\n",
       "      <th>10099</th>\n",
       "      <td>0.642105</td>\n",
       "      <td>0.357895</td>\n",
       "    </tr>\n",
       "    <tr>\n",
       "      <th>8265</th>\n",
       "      <td>0.642105</td>\n",
       "      <td>0.357895</td>\n",
       "    </tr>\n",
       "    <tr>\n",
       "      <th>5762</th>\n",
       "      <td>0.631579</td>\n",
       "      <td>0.368421</td>\n",
       "    </tr>\n",
       "    <tr>\n",
       "      <th>7866</th>\n",
       "      <td>0.631579</td>\n",
       "      <td>0.368421</td>\n",
       "    </tr>\n",
       "    <tr>\n",
       "      <th>5857</th>\n",
       "      <td>0.621053</td>\n",
       "      <td>0.378947</td>\n",
       "    </tr>\n",
       "    <tr>\n",
       "      <th>8098</th>\n",
       "      <td>0.621053</td>\n",
       "      <td>0.378947</td>\n",
       "    </tr>\n",
       "    <tr>\n",
       "      <th>95</th>\n",
       "      <td>0.610526</td>\n",
       "      <td>0.389474</td>\n",
       "    </tr>\n",
       "    <tr>\n",
       "      <th>3773</th>\n",
       "      <td>0.589474</td>\n",
       "      <td>0.410526</td>\n",
       "    </tr>\n",
       "    <tr>\n",
       "      <th>1921</th>\n",
       "      <td>0.536842</td>\n",
       "      <td>0.463158</td>\n",
       "    </tr>\n",
       "    <tr>\n",
       "      <th>6522</th>\n",
       "      <td>0.484211</td>\n",
       "      <td>0.515789</td>\n",
       "    </tr>\n",
       "    <tr>\n",
       "      <th>1210</th>\n",
       "      <td>0.473684</td>\n",
       "      <td>0.526316</td>\n",
       "    </tr>\n",
       "    <tr>\n",
       "      <th>3697</th>\n",
       "      <td>0.473684</td>\n",
       "      <td>0.526316</td>\n",
       "    </tr>\n",
       "    <tr>\n",
       "      <th>7582</th>\n",
       "      <td>0.473684</td>\n",
       "      <td>0.526316</td>\n",
       "    </tr>\n",
       "    <tr>\n",
       "      <th>2769</th>\n",
       "      <td>0.463158</td>\n",
       "      <td>0.536842</td>\n",
       "    </tr>\n",
       "    <tr>\n",
       "      <th>2519</th>\n",
       "      <td>0.442105</td>\n",
       "      <td>0.557895</td>\n",
       "    </tr>\n",
       "    <tr>\n",
       "      <th>5989</th>\n",
       "      <td>0.231579</td>\n",
       "      <td>0.768421</td>\n",
       "    </tr>\n",
       "    <tr>\n",
       "      <th>5443</th>\n",
       "      <td>0.168421</td>\n",
       "      <td>0.831579</td>\n",
       "    </tr>\n",
       "    <tr>\n",
       "      <th>4263</th>\n",
       "      <td>0.115789</td>\n",
       "      <td>0.884211</td>\n",
       "    </tr>\n",
       "    <tr>\n",
       "      <th>1780</th>\n",
       "      <td>0.010526</td>\n",
       "      <td>0.989474</td>\n",
       "    </tr>\n",
       "    <tr>\n",
       "      <th>11408</th>\n",
       "      <td>0.010526</td>\n",
       "      <td>0.989474</td>\n",
       "    </tr>\n",
       "    <tr>\n",
       "      <th>3847</th>\n",
       "      <td>0.010526</td>\n",
       "      <td>0.989474</td>\n",
       "    </tr>\n",
       "    <tr>\n",
       "      <th>9980</th>\n",
       "      <td>0.010526</td>\n",
       "      <td>0.989474</td>\n",
       "    </tr>\n",
       "  </tbody>\n",
       "</table>\n",
       "<p>11428 rows × 2 columns</p>\n",
       "</div>"
      ],
      "text/plain": [
       "       Class_0_prob  Class_1_prob\n",
       "0          1.000000      0.000000\n",
       "7024       1.000000      0.000000\n",
       "7015       1.000000      0.000000\n",
       "7016       1.000000      0.000000\n",
       "7017       1.000000      0.000000\n",
       "7018       1.000000      0.000000\n",
       "7019       1.000000      0.000000\n",
       "7022       1.000000      0.000000\n",
       "7025       1.000000      0.000000\n",
       "7008       1.000000      0.000000\n",
       "7026       1.000000      0.000000\n",
       "7028       1.000000      0.000000\n",
       "7029       1.000000      0.000000\n",
       "7030       1.000000      0.000000\n",
       "7031       1.000000      0.000000\n",
       "7034       1.000000      0.000000\n",
       "7012       1.000000      0.000000\n",
       "7007       1.000000      0.000000\n",
       "7037       1.000000      0.000000\n",
       "6990       1.000000      0.000000\n",
       "6977       1.000000      0.000000\n",
       "6978       1.000000      0.000000\n",
       "6979       1.000000      0.000000\n",
       "6981       1.000000      0.000000\n",
       "6984       1.000000      0.000000\n",
       "6988       1.000000      0.000000\n",
       "6991       1.000000      0.000000\n",
       "7002       1.000000      0.000000\n",
       "6993       1.000000      0.000000\n",
       "6994       1.000000      0.000000\n",
       "...             ...           ...\n",
       "3994       0.673684      0.326316\n",
       "1595       0.663158      0.336842\n",
       "2534       0.663158      0.336842\n",
       "3831       0.663158      0.336842\n",
       "7781       0.663158      0.336842\n",
       "4184       0.663158      0.336842\n",
       "4358       0.652632      0.347368\n",
       "8671       0.642105      0.357895\n",
       "10099      0.642105      0.357895\n",
       "8265       0.642105      0.357895\n",
       "5762       0.631579      0.368421\n",
       "7866       0.631579      0.368421\n",
       "5857       0.621053      0.378947\n",
       "8098       0.621053      0.378947\n",
       "95         0.610526      0.389474\n",
       "3773       0.589474      0.410526\n",
       "1921       0.536842      0.463158\n",
       "6522       0.484211      0.515789\n",
       "1210       0.473684      0.526316\n",
       "3697       0.473684      0.526316\n",
       "7582       0.473684      0.526316\n",
       "2769       0.463158      0.536842\n",
       "2519       0.442105      0.557895\n",
       "5989       0.231579      0.768421\n",
       "5443       0.168421      0.831579\n",
       "4263       0.115789      0.884211\n",
       "1780       0.010526      0.989474\n",
       "11408      0.010526      0.989474\n",
       "3847       0.010526      0.989474\n",
       "9980       0.010526      0.989474\n",
       "\n",
       "[11428 rows x 2 columns]"
      ]
     },
     "execution_count": 23,
     "metadata": {},
     "output_type": "execute_result"
    }
   ],
   "source": [
    "leave_next = pd.DataFrame({'Class_0_prob':y_pred_rfc[:,0],\"Class_1_prob\":y_pred_rfc[:,1]})\n",
    "leave_next.sort_values(by = \"Class_0_prob\", ascending = False)"
   ]
  },
  {
   "cell_type": "markdown",
   "metadata": {
    "deletable": true,
    "editable": true
   },
   "source": [
    "# Subset of X with Selective Features"
   ]
  },
  {
   "cell_type": "code",
   "execution_count": 24,
   "metadata": {
    "collapsed": false,
    "deletable": true,
    "editable": true
   },
   "outputs": [],
   "source": [
    "X_sub = X[RFC_scores[\"Features\"][:5]]\n",
    "y_sub = y"
   ]
  },
  {
   "cell_type": "code",
   "execution_count": 25,
   "metadata": {
    "collapsed": true,
    "deletable": true,
    "editable": true
   },
   "outputs": [],
   "source": [
    "from sklearn.model_selection import train_test_split\n",
    "X_sub_train,X_sub_test,y_train,y_test = train_test_split(X_sub,y,test_size = 0.3, random_state = 0)"
   ]
  },
  {
   "cell_type": "code",
   "execution_count": 26,
   "metadata": {
    "collapsed": true,
    "deletable": true,
    "editable": true
   },
   "outputs": [],
   "source": [
    "from sklearn.preprocessing import StandardScaler\n",
    "std = StandardScaler()\n",
    "X_sub_train = std.fit_transform(X_sub_train)\n",
    "X_sub_test = std.transform(X_sub_test)\n",
    "X_sub_std = std.transform(X_sub)"
   ]
  },
  {
   "cell_type": "code",
   "execution_count": 27,
   "metadata": {
    "collapsed": true,
    "deletable": true,
    "editable": true
   },
   "outputs": [],
   "source": [
    "from sklearn.model_selection import ShuffleSplit\n",
    "cv = ShuffleSplit(n_splits = 20, test_size = 0.2)"
   ]
  },
  {
   "cell_type": "markdown",
   "metadata": {
    "deletable": true,
    "editable": true
   },
   "source": [
    "# Logistic Regression"
   ]
  },
  {
   "cell_type": "code",
   "execution_count": 28,
   "metadata": {
    "collapsed": true,
    "deletable": true,
    "editable": true
   },
   "outputs": [],
   "source": [
    "from sklearn.linear_model import LogisticRegression\n",
    "log_reg_1 = LogisticRegression()"
   ]
  },
  {
   "cell_type": "code",
   "execution_count": 29,
   "metadata": {
    "collapsed": false,
    "deletable": true,
    "editable": true
   },
   "outputs": [
    {
     "data": {
      "text/plain": [
       "GridSearchCV(cv=ShuffleSplit(n_splits=20, random_state=None, test_size=0.2, train_size=None),\n",
       "       error_score='raise',\n",
       "       estimator=LogisticRegression(C=1.0, class_weight=None, dual=False, fit_intercept=True,\n",
       "          intercept_scaling=1, max_iter=100, multi_class='ovr', n_jobs=1,\n",
       "          penalty='l2', random_state=None, solver='liblinear', tol=0.0001,\n",
       "          verbose=0, warm_start=False),\n",
       "       fit_params={}, iid=True, n_jobs=1,\n",
       "       param_grid={'penalty': ['l1', 'l2'], 'C': [0.01, 0.1, 1, 10, 100]},\n",
       "       pre_dispatch='2*n_jobs', refit=True, return_train_score=True,\n",
       "       scoring=None, verbose=0)"
      ]
     },
     "execution_count": 29,
     "metadata": {},
     "output_type": "execute_result"
    }
   ],
   "source": [
    "from sklearn.model_selection import GridSearchCV\n",
    "parameters = {\"C\":[0.01,0.1,1,10,100],\"penalty\":[\"l1\",\"l2\"]}\n",
    "LR = GridSearchCV(log_reg_1, param_grid = parameters, cv = cv)\n",
    "LR.fit(X_sub_train,y_train)"
   ]
  },
  {
   "cell_type": "code",
   "execution_count": 30,
   "metadata": {
    "collapsed": false,
    "deletable": true,
    "editable": true
   },
   "outputs": [
    {
     "data": {
      "text/plain": [
       "0.77109523809523806"
      ]
     },
     "execution_count": 30,
     "metadata": {},
     "output_type": "execute_result"
    }
   ],
   "source": [
    "LR.best_score_"
   ]
  },
  {
   "cell_type": "code",
   "execution_count": 31,
   "metadata": {
    "collapsed": false,
    "deletable": true,
    "editable": true
   },
   "outputs": [
    {
     "data": {
      "text/plain": [
       "{'C': 0.01, 'penalty': 'l1'}"
      ]
     },
     "execution_count": 31,
     "metadata": {},
     "output_type": "execute_result"
    }
   ],
   "source": [
    "LR.best_params_"
   ]
  },
  {
   "cell_type": "code",
   "execution_count": 32,
   "metadata": {
    "collapsed": false,
    "deletable": true,
    "editable": true
   },
   "outputs": [
    {
     "data": {
      "text/plain": [
       "0.77133333333333332"
      ]
     },
     "execution_count": 32,
     "metadata": {},
     "output_type": "execute_result"
    }
   ],
   "source": [
    "LR_best = LR.best_estimator_\n",
    "LR_best.fit(X_sub_train,y_train)\n",
    "LR_best.score(X_sub_test,y_test)"
   ]
  },
  {
   "cell_type": "markdown",
   "metadata": {
    "deletable": true,
    "editable": true
   },
   "source": [
    "# KNN Classifier"
   ]
  },
  {
   "cell_type": "code",
   "execution_count": 33,
   "metadata": {
    "collapsed": false,
    "deletable": true,
    "editable": true
   },
   "outputs": [],
   "source": [
    "score_uniform = {}\n",
    "for i in range(1,20):\n",
    "    from sklearn.neighbors import KNeighborsClassifier\n",
    "    knn = KNeighborsClassifier(n_neighbors = i)\n",
    "    knn.fit(X_sub_train,y_train)\n",
    "    score_uniform[i] = knn.score(X_sub_test,y_test)"
   ]
  },
  {
   "cell_type": "code",
   "execution_count": 34,
   "metadata": {
    "collapsed": false,
    "deletable": true,
    "editable": true
   },
   "outputs": [],
   "source": [
    "score_distance = {}\n",
    "for i in range(1,20):\n",
    "    from sklearn.neighbors import KNeighborsClassifier\n",
    "    knn = KNeighborsClassifier(n_neighbors = i, weights = \"distance\")\n",
    "    knn.fit(X_sub_train,y_train)\n",
    "    score_distance[i] = knn.score(X_sub_test,y_test)"
   ]
  },
  {
   "cell_type": "code",
   "execution_count": 35,
   "metadata": {
    "collapsed": false,
    "deletable": true,
    "editable": true
   },
   "outputs": [
    {
     "data": {
      "text/html": [
       "<div>\n",
       "<table border=\"1\" class=\"dataframe\">\n",
       "  <thead>\n",
       "    <tr style=\"text-align: right;\">\n",
       "      <th></th>\n",
       "      <th>score_distance</th>\n",
       "      <th>score_uniform</th>\n",
       "    </tr>\n",
       "    <tr>\n",
       "      <th>No. of Neighbors</th>\n",
       "      <th></th>\n",
       "      <th></th>\n",
       "    </tr>\n",
       "  </thead>\n",
       "  <tbody>\n",
       "    <tr>\n",
       "      <th>1</th>\n",
       "      <td>0.977778</td>\n",
       "      <td>0.977778</td>\n",
       "    </tr>\n",
       "    <tr>\n",
       "      <th>2</th>\n",
       "      <td>0.977778</td>\n",
       "      <td>0.974000</td>\n",
       "    </tr>\n",
       "    <tr>\n",
       "      <th>3</th>\n",
       "      <td>0.976889</td>\n",
       "      <td>0.969333</td>\n",
       "    </tr>\n",
       "    <tr>\n",
       "      <th>4</th>\n",
       "      <td>0.979333</td>\n",
       "      <td>0.969556</td>\n",
       "    </tr>\n",
       "    <tr>\n",
       "      <th>5</th>\n",
       "      <td>0.981333</td>\n",
       "      <td>0.966667</td>\n",
       "    </tr>\n",
       "    <tr>\n",
       "      <th>6</th>\n",
       "      <td>0.981556</td>\n",
       "      <td>0.969111</td>\n",
       "    </tr>\n",
       "    <tr>\n",
       "      <th>7</th>\n",
       "      <td>0.981333</td>\n",
       "      <td>0.967333</td>\n",
       "    </tr>\n",
       "    <tr>\n",
       "      <th>8</th>\n",
       "      <td>0.982222</td>\n",
       "      <td>0.968889</td>\n",
       "    </tr>\n",
       "    <tr>\n",
       "      <th>9</th>\n",
       "      <td>0.981778</td>\n",
       "      <td>0.967111</td>\n",
       "    </tr>\n",
       "    <tr>\n",
       "      <th>10</th>\n",
       "      <td>0.982222</td>\n",
       "      <td>0.967556</td>\n",
       "    </tr>\n",
       "    <tr>\n",
       "      <th>11</th>\n",
       "      <td>0.981778</td>\n",
       "      <td>0.967556</td>\n",
       "    </tr>\n",
       "    <tr>\n",
       "      <th>12</th>\n",
       "      <td>0.982444</td>\n",
       "      <td>0.966667</td>\n",
       "    </tr>\n",
       "    <tr>\n",
       "      <th>13</th>\n",
       "      <td>0.982000</td>\n",
       "      <td>0.965333</td>\n",
       "    </tr>\n",
       "    <tr>\n",
       "      <th>14</th>\n",
       "      <td>0.982222</td>\n",
       "      <td>0.966667</td>\n",
       "    </tr>\n",
       "    <tr>\n",
       "      <th>15</th>\n",
       "      <td>0.982222</td>\n",
       "      <td>0.964667</td>\n",
       "    </tr>\n",
       "    <tr>\n",
       "      <th>16</th>\n",
       "      <td>0.982000</td>\n",
       "      <td>0.965333</td>\n",
       "    </tr>\n",
       "    <tr>\n",
       "      <th>17</th>\n",
       "      <td>0.981111</td>\n",
       "      <td>0.963556</td>\n",
       "    </tr>\n",
       "    <tr>\n",
       "      <th>18</th>\n",
       "      <td>0.980889</td>\n",
       "      <td>0.964000</td>\n",
       "    </tr>\n",
       "    <tr>\n",
       "      <th>19</th>\n",
       "      <td>0.980444</td>\n",
       "      <td>0.962667</td>\n",
       "    </tr>\n",
       "  </tbody>\n",
       "</table>\n",
       "</div>"
      ],
      "text/plain": [
       "                  score_distance  score_uniform\n",
       "No. of Neighbors                               \n",
       "1                       0.977778       0.977778\n",
       "2                       0.977778       0.974000\n",
       "3                       0.976889       0.969333\n",
       "4                       0.979333       0.969556\n",
       "5                       0.981333       0.966667\n",
       "6                       0.981556       0.969111\n",
       "7                       0.981333       0.967333\n",
       "8                       0.982222       0.968889\n",
       "9                       0.981778       0.967111\n",
       "10                      0.982222       0.967556\n",
       "11                      0.981778       0.967556\n",
       "12                      0.982444       0.966667\n",
       "13                      0.982000       0.965333\n",
       "14                      0.982222       0.966667\n",
       "15                      0.982222       0.964667\n",
       "16                      0.982000       0.965333\n",
       "17                      0.981111       0.963556\n",
       "18                      0.980889       0.964000\n",
       "19                      0.980444       0.962667"
      ]
     },
     "execution_count": 35,
     "metadata": {},
     "output_type": "execute_result"
    }
   ],
   "source": [
    "KNN = pd.DataFrame({\"score_distance\":score_distance,\"score_uniform\":score_uniform}, index = range(1,20))\n",
    "KNN.index.name = \"No. of Neighbors\"\n",
    "best_distance, best_uniform = KNN[\"score_distance\"].max(),KNN[\"score_uniform\"].max()\n",
    "KNN"
   ]
  },
  {
   "cell_type": "code",
   "execution_count": 36,
   "metadata": {
    "collapsed": false,
    "deletable": true,
    "editable": true
   },
   "outputs": [
    {
     "data": {
      "text/plain": [
       "(0.98244444444444445, 0.97777777777777775)"
      ]
     },
     "execution_count": 36,
     "metadata": {},
     "output_type": "execute_result"
    }
   ],
   "source": [
    "best_distance, best_uniform"
   ]
  },
  {
   "cell_type": "raw",
   "metadata": {
    "deletable": true,
    "editable": true
   },
   "source": [
    "KNN gave best accuracy of 98% with n_neighbors = 12"
   ]
  },
  {
   "cell_type": "code",
   "execution_count": 37,
   "metadata": {
    "collapsed": false,
    "deletable": true,
    "editable": true
   },
   "outputs": [
    {
     "data": {
      "text/plain": [
       "0.98244444444444445"
      ]
     },
     "execution_count": 37,
     "metadata": {},
     "output_type": "execute_result"
    }
   ],
   "source": [
    "KNN_best = KNeighborsClassifier(n_neighbors = 12, weights = \"distance\")\n",
    "KNN_best.fit(X_sub_train,y_train)\n",
    "KNN_best.score(X_sub_test,y_test)"
   ]
  },
  {
   "cell_type": "raw",
   "metadata": {
    "deletable": true,
    "editable": true
   },
   "source": [
    "KNN showed improved accuracy with decreased features."
   ]
  },
  {
   "cell_type": "markdown",
   "metadata": {
    "deletable": true,
    "editable": true
   },
   "source": [
    "# Random Forest Classifier"
   ]
  },
  {
   "cell_type": "code",
   "execution_count": 38,
   "metadata": {
    "collapsed": true,
    "deletable": true,
    "editable": true
   },
   "outputs": [],
   "source": [
    "from sklearn.ensemble import RandomForestClassifier\n",
    "rfc = RandomForestClassifier()"
   ]
  },
  {
   "cell_type": "code",
   "execution_count": 39,
   "metadata": {
    "collapsed": false,
    "deletable": true,
    "editable": true
   },
   "outputs": [
    {
     "data": {
      "text/plain": [
       "GridSearchCV(cv=ShuffleSplit(n_splits=20, random_state=None, test_size=0.2, train_size=None),\n",
       "       error_score='raise',\n",
       "       estimator=RandomForestClassifier(bootstrap=True, class_weight=None, criterion='gini',\n",
       "            max_depth=None, max_features='auto', max_leaf_nodes=None,\n",
       "            min_impurity_split=1e-07, min_samples_leaf=1,\n",
       "            min_samples_split=2, min_weight_fraction_leaf=0.0,\n",
       "            n_estimators=10, n_jobs=1, oob_score=False, random_state=None,\n",
       "            verbose=0, warm_start=False),\n",
       "       fit_params={}, iid=True, n_jobs=1,\n",
       "       param_grid={'n_estimators': range(10, 100)},\n",
       "       pre_dispatch='2*n_jobs', refit=True, return_train_score=True,\n",
       "       scoring=None, verbose=0)"
      ]
     },
     "execution_count": 39,
     "metadata": {},
     "output_type": "execute_result"
    }
   ],
   "source": [
    "from sklearn.model_selection import GridSearchCV\n",
    "parameters = {\"n_estimators\":range(10,100)}\n",
    "RFC = GridSearchCV(rfc, param_grid = parameters, cv = cv)\n",
    "RFC.fit(X_sub_train,y_train)"
   ]
  },
  {
   "cell_type": "code",
   "execution_count": 40,
   "metadata": {
    "collapsed": false,
    "deletable": true,
    "editable": true
   },
   "outputs": [
    {
     "data": {
      "text/plain": [
       "0.98859523809523808"
      ]
     },
     "execution_count": 40,
     "metadata": {},
     "output_type": "execute_result"
    }
   ],
   "source": [
    "RFC.best_score_"
   ]
  },
  {
   "cell_type": "code",
   "execution_count": 41,
   "metadata": {
    "collapsed": false,
    "deletable": true,
    "editable": true
   },
   "outputs": [
    {
     "data": {
      "text/plain": [
       "0.99044444444444446"
      ]
     },
     "execution_count": 41,
     "metadata": {},
     "output_type": "execute_result"
    }
   ],
   "source": [
    "RFC_best = RFC.best_estimator_\n",
    "RFC_best.fit(X_sub_train,y_train)\n",
    "RFC_best.score(X_sub_test,y_test)"
   ]
  },
  {
   "cell_type": "raw",
   "metadata": {
    "deletable": true,
    "editable": true
   },
   "source": [
    "There is no change in the accuracy of Random Forest Classifier and it gave best accuracy for 85 trees."
   ]
  },
  {
   "cell_type": "markdown",
   "metadata": {
    "deletable": true,
    "editable": true
   },
   "source": [
    "## Applying PCA"
   ]
  },
  {
   "cell_type": "code",
   "execution_count": 42,
   "metadata": {
    "collapsed": true,
    "deletable": true,
    "editable": true
   },
   "outputs": [],
   "source": [
    "eigen_values,eigen_vectors = np.linalg.eig(np.cov(X_std.T))"
   ]
  },
  {
   "cell_type": "code",
   "execution_count": 43,
   "metadata": {
    "collapsed": false,
    "deletable": true,
    "editable": true
   },
   "outputs": [],
   "source": [
    "eigen = {}\n",
    "for i in range(13):\n",
    "    eigen[i] = eigen_vectors.T[:,i]"
   ]
  },
  {
   "cell_type": "code",
   "execution_count": 44,
   "metadata": {
    "collapsed": true,
    "deletable": true,
    "editable": true
   },
   "outputs": [],
   "source": [
    "pca = pd.DataFrame(eigen)"
   ]
  },
  {
   "cell_type": "code",
   "execution_count": 45,
   "metadata": {
    "collapsed": false,
    "deletable": true,
    "editable": true
   },
   "outputs": [
    {
     "data": {
      "text/html": [
       "<div>\n",
       "<table border=\"1\" class=\"dataframe\">\n",
       "  <thead>\n",
       "    <tr style=\"text-align: right;\">\n",
       "      <th></th>\n",
       "      <th>0</th>\n",
       "      <th>1</th>\n",
       "      <th>2</th>\n",
       "      <th>3</th>\n",
       "      <th>4</th>\n",
       "      <th>5</th>\n",
       "      <th>6</th>\n",
       "      <th>7</th>\n",
       "      <th>8</th>\n",
       "      <th>9</th>\n",
       "      <th>10</th>\n",
       "      <th>11</th>\n",
       "      <th>12</th>\n",
       "      <th>eigen_values</th>\n",
       "    </tr>\n",
       "  </thead>\n",
       "  <tbody>\n",
       "    <tr>\n",
       "      <th>0</th>\n",
       "      <td>-0.084027</td>\n",
       "      <td>0.504792</td>\n",
       "      <td>0.568201</td>\n",
       "      <td>0.544747</td>\n",
       "      <td>0.330988</td>\n",
       "      <td>-0.015862</td>\n",
       "      <td>0.028132</td>\n",
       "      <td>0.020625</td>\n",
       "      <td>-0.026704</td>\n",
       "      <td>-0.040544</td>\n",
       "      <td>0.070728</td>\n",
       "      <td>0.008616</td>\n",
       "      <td>-0.008177</td>\n",
       "      <td>1.837186</td>\n",
       "    </tr>\n",
       "    <tr>\n",
       "      <th>1</th>\n",
       "      <td>-0.095770</td>\n",
       "      <td>0.066432</td>\n",
       "      <td>0.072509</td>\n",
       "      <td>0.076996</td>\n",
       "      <td>-0.168651</td>\n",
       "      <td>-0.071674</td>\n",
       "      <td>-0.351036</td>\n",
       "      <td>-0.587376</td>\n",
       "      <td>0.507870</td>\n",
       "      <td>0.046317</td>\n",
       "      <td>-0.460223</td>\n",
       "      <td>0.023071</td>\n",
       "      <td>0.031575</td>\n",
       "      <td>1.494711</td>\n",
       "    </tr>\n",
       "    <tr>\n",
       "      <th>5</th>\n",
       "      <td>0.742200</td>\n",
       "      <td>0.321358</td>\n",
       "      <td>-0.070063</td>\n",
       "      <td>0.124769</td>\n",
       "      <td>-0.345310</td>\n",
       "      <td>0.303697</td>\n",
       "      <td>0.015536</td>\n",
       "      <td>-0.001586</td>\n",
       "      <td>-0.086132</td>\n",
       "      <td>-0.013279</td>\n",
       "      <td>-0.120948</td>\n",
       "      <td>-0.211347</td>\n",
       "      <td>0.216300</td>\n",
       "      <td>1.146283</td>\n",
       "    </tr>\n",
       "    <tr>\n",
       "      <th>10</th>\n",
       "      <td>-0.158672</td>\n",
       "      <td>-0.121062</td>\n",
       "      <td>0.009413</td>\n",
       "      <td>-0.079247</td>\n",
       "      <td>0.245311</td>\n",
       "      <td>0.314084</td>\n",
       "      <td>0.414405</td>\n",
       "      <td>-0.249601</td>\n",
       "      <td>0.295540</td>\n",
       "      <td>-0.133004</td>\n",
       "      <td>0.184975</td>\n",
       "      <td>-0.489082</td>\n",
       "      <td>0.427187</td>\n",
       "      <td>1.066792</td>\n",
       "    </tr>\n",
       "    <tr>\n",
       "      <th>12</th>\n",
       "      <td>-0.029885</td>\n",
       "      <td>0.021492</td>\n",
       "      <td>0.000919</td>\n",
       "      <td>0.031881</td>\n",
       "      <td>-0.019737</td>\n",
       "      <td>-0.246157</td>\n",
       "      <td>-0.082818</td>\n",
       "      <td>0.023476</td>\n",
       "      <td>-0.061987</td>\n",
       "      <td>0.693146</td>\n",
       "      <td>0.049336</td>\n",
       "      <td>-0.634024</td>\n",
       "      <td>-0.201298</td>\n",
       "      <td>1.036743</td>\n",
       "    </tr>\n",
       "    <tr>\n",
       "      <th>11</th>\n",
       "      <td>-0.221754</td>\n",
       "      <td>-0.081189</td>\n",
       "      <td>0.094935</td>\n",
       "      <td>0.045234</td>\n",
       "      <td>-0.149106</td>\n",
       "      <td>-0.323362</td>\n",
       "      <td>-0.282469</td>\n",
       "      <td>0.208046</td>\n",
       "      <td>-0.322278</td>\n",
       "      <td>-0.141020</td>\n",
       "      <td>-0.219151</td>\n",
       "      <td>-0.174990</td>\n",
       "      <td>0.693476</td>\n",
       "      <td>1.016402</td>\n",
       "    </tr>\n",
       "    <tr>\n",
       "      <th>9</th>\n",
       "      <td>0.253754</td>\n",
       "      <td>0.106702</td>\n",
       "      <td>-0.099465</td>\n",
       "      <td>-0.036922</td>\n",
       "      <td>-0.001661</td>\n",
       "      <td>-0.604600</td>\n",
       "      <td>-0.121127</td>\n",
       "      <td>-0.028076</td>\n",
       "      <td>0.273458</td>\n",
       "      <td>-0.476949</td>\n",
       "      <td>0.397326</td>\n",
       "      <td>-0.240386</td>\n",
       "      <td>-0.118533</td>\n",
       "      <td>0.960245</td>\n",
       "    </tr>\n",
       "    <tr>\n",
       "      <th>8</th>\n",
       "      <td>-0.118631</td>\n",
       "      <td>-0.075343</td>\n",
       "      <td>0.040848</td>\n",
       "      <td>-0.028992</td>\n",
       "      <td>0.072773</td>\n",
       "      <td>0.511859</td>\n",
       "      <td>-0.694080</td>\n",
       "      <td>0.174477</td>\n",
       "      <td>0.008715</td>\n",
       "      <td>-0.229912</td>\n",
       "      <td>0.175158</td>\n",
       "      <td>-0.280680</td>\n",
       "      <td>-0.189369</td>\n",
       "      <td>0.943429</td>\n",
       "    </tr>\n",
       "    <tr>\n",
       "      <th>6</th>\n",
       "      <td>-0.334554</td>\n",
       "      <td>-0.076037</td>\n",
       "      <td>0.191420</td>\n",
       "      <td>0.248871</td>\n",
       "      <td>-0.772793</td>\n",
       "      <td>0.076929</td>\n",
       "      <td>0.256879</td>\n",
       "      <td>0.114623</td>\n",
       "      <td>0.090721</td>\n",
       "      <td>-0.157142</td>\n",
       "      <td>0.124236</td>\n",
       "      <td>-0.117127</td>\n",
       "      <td>-0.198453</td>\n",
       "      <td>0.843466</td>\n",
       "    </tr>\n",
       "    <tr>\n",
       "      <th>7</th>\n",
       "      <td>0.005278</td>\n",
       "      <td>0.073494</td>\n",
       "      <td>-0.010131</td>\n",
       "      <td>0.022663</td>\n",
       "      <td>-0.156589</td>\n",
       "      <td>0.042118</td>\n",
       "      <td>-0.207262</td>\n",
       "      <td>0.129736</td>\n",
       "      <td>0.376383</td>\n",
       "      <td>0.413407</td>\n",
       "      <td>0.557125</td>\n",
       "      <td>0.356010</td>\n",
       "      <td>0.397707</td>\n",
       "      <td>0.798407</td>\n",
       "    </tr>\n",
       "    <tr>\n",
       "      <th>4</th>\n",
       "      <td>0.061271</td>\n",
       "      <td>-0.037288</td>\n",
       "      <td>-0.022119</td>\n",
       "      <td>0.036570</td>\n",
       "      <td>0.131530</td>\n",
       "      <td>-0.019192</td>\n",
       "      <td>0.099352</td>\n",
       "      <td>0.693523</td>\n",
       "      <td>0.559500</td>\n",
       "      <td>0.001651</td>\n",
       "      <td>-0.408519</td>\n",
       "      <td>-0.065373</td>\n",
       "      <td>-0.017635</td>\n",
       "      <td>0.669233</td>\n",
       "    </tr>\n",
       "    <tr>\n",
       "      <th>3</th>\n",
       "      <td>0.277584</td>\n",
       "      <td>-0.698995</td>\n",
       "      <td>-0.016570</td>\n",
       "      <td>0.637943</td>\n",
       "      <td>0.113963</td>\n",
       "      <td>-0.034599</td>\n",
       "      <td>-0.046133</td>\n",
       "      <td>-0.078968</td>\n",
       "      <td>-0.000412</td>\n",
       "      <td>0.025338</td>\n",
       "      <td>0.049715</td>\n",
       "      <td>0.036467</td>\n",
       "      <td>0.010728</td>\n",
       "      <td>0.635133</td>\n",
       "    </tr>\n",
       "    <tr>\n",
       "      <th>2</th>\n",
       "      <td>0.294000</td>\n",
       "      <td>-0.312350</td>\n",
       "      <td>0.780262</td>\n",
       "      <td>-0.446597</td>\n",
       "      <td>-0.051478</td>\n",
       "      <td>-0.042147</td>\n",
       "      <td>0.000017</td>\n",
       "      <td>-0.004073</td>\n",
       "      <td>0.033122</td>\n",
       "      <td>0.037715</td>\n",
       "      <td>0.012488</td>\n",
       "      <td>0.016871</td>\n",
       "      <td>-0.018468</td>\n",
       "      <td>0.544432</td>\n",
       "    </tr>\n",
       "  </tbody>\n",
       "</table>\n",
       "</div>"
      ],
      "text/plain": [
       "           0         1         2         3         4         5         6  \\\n",
       "0  -0.084027  0.504792  0.568201  0.544747  0.330988 -0.015862  0.028132   \n",
       "1  -0.095770  0.066432  0.072509  0.076996 -0.168651 -0.071674 -0.351036   \n",
       "5   0.742200  0.321358 -0.070063  0.124769 -0.345310  0.303697  0.015536   \n",
       "10 -0.158672 -0.121062  0.009413 -0.079247  0.245311  0.314084  0.414405   \n",
       "12 -0.029885  0.021492  0.000919  0.031881 -0.019737 -0.246157 -0.082818   \n",
       "11 -0.221754 -0.081189  0.094935  0.045234 -0.149106 -0.323362 -0.282469   \n",
       "9   0.253754  0.106702 -0.099465 -0.036922 -0.001661 -0.604600 -0.121127   \n",
       "8  -0.118631 -0.075343  0.040848 -0.028992  0.072773  0.511859 -0.694080   \n",
       "6  -0.334554 -0.076037  0.191420  0.248871 -0.772793  0.076929  0.256879   \n",
       "7   0.005278  0.073494 -0.010131  0.022663 -0.156589  0.042118 -0.207262   \n",
       "4   0.061271 -0.037288 -0.022119  0.036570  0.131530 -0.019192  0.099352   \n",
       "3   0.277584 -0.698995 -0.016570  0.637943  0.113963 -0.034599 -0.046133   \n",
       "2   0.294000 -0.312350  0.780262 -0.446597 -0.051478 -0.042147  0.000017   \n",
       "\n",
       "           7         8         9        10        11        12  eigen_values  \n",
       "0   0.020625 -0.026704 -0.040544  0.070728  0.008616 -0.008177      1.837186  \n",
       "1  -0.587376  0.507870  0.046317 -0.460223  0.023071  0.031575      1.494711  \n",
       "5  -0.001586 -0.086132 -0.013279 -0.120948 -0.211347  0.216300      1.146283  \n",
       "10 -0.249601  0.295540 -0.133004  0.184975 -0.489082  0.427187      1.066792  \n",
       "12  0.023476 -0.061987  0.693146  0.049336 -0.634024 -0.201298      1.036743  \n",
       "11  0.208046 -0.322278 -0.141020 -0.219151 -0.174990  0.693476      1.016402  \n",
       "9  -0.028076  0.273458 -0.476949  0.397326 -0.240386 -0.118533      0.960245  \n",
       "8   0.174477  0.008715 -0.229912  0.175158 -0.280680 -0.189369      0.943429  \n",
       "6   0.114623  0.090721 -0.157142  0.124236 -0.117127 -0.198453      0.843466  \n",
       "7   0.129736  0.376383  0.413407  0.557125  0.356010  0.397707      0.798407  \n",
       "4   0.693523  0.559500  0.001651 -0.408519 -0.065373 -0.017635      0.669233  \n",
       "3  -0.078968 -0.000412  0.025338  0.049715  0.036467  0.010728      0.635133  \n",
       "2  -0.004073  0.033122  0.037715  0.012488  0.016871 -0.018468      0.544432  "
      ]
     },
     "execution_count": 45,
     "metadata": {},
     "output_type": "execute_result"
    }
   ],
   "source": [
    "pca[\"eigen_values\"] = eigen_values\n",
    "pca.sort_values(by = \"eigen_values\", ascending = False, inplace = True)\n",
    "pca"
   ]
  },
  {
   "cell_type": "code",
   "execution_count": 46,
   "metadata": {
    "collapsed": false,
    "deletable": true,
    "editable": true
   },
   "outputs": [
    {
     "data": {
      "text/html": [
       "<div>\n",
       "<table border=\"1\" class=\"dataframe\">\n",
       "  <thead>\n",
       "    <tr style=\"text-align: right;\">\n",
       "      <th></th>\n",
       "      <th>0</th>\n",
       "      <th>1</th>\n",
       "      <th>2</th>\n",
       "      <th>3</th>\n",
       "      <th>4</th>\n",
       "      <th>5</th>\n",
       "      <th>6</th>\n",
       "      <th>7</th>\n",
       "      <th>8</th>\n",
       "      <th>9</th>\n",
       "      <th>10</th>\n",
       "      <th>11</th>\n",
       "      <th>12</th>\n",
       "      <th>eigen_values</th>\n",
       "      <th>%_explained_variance</th>\n",
       "    </tr>\n",
       "  </thead>\n",
       "  <tbody>\n",
       "    <tr>\n",
       "      <th>0</th>\n",
       "      <td>-0.084027</td>\n",
       "      <td>0.504792</td>\n",
       "      <td>0.568201</td>\n",
       "      <td>0.544747</td>\n",
       "      <td>0.330988</td>\n",
       "      <td>-0.015862</td>\n",
       "      <td>0.028132</td>\n",
       "      <td>0.020625</td>\n",
       "      <td>-0.026704</td>\n",
       "      <td>-0.040544</td>\n",
       "      <td>0.070728</td>\n",
       "      <td>0.008616</td>\n",
       "      <td>-0.008177</td>\n",
       "      <td>1.837186</td>\n",
       "      <td>14.140400</td>\n",
       "    </tr>\n",
       "    <tr>\n",
       "      <th>1</th>\n",
       "      <td>-0.095770</td>\n",
       "      <td>0.066432</td>\n",
       "      <td>0.072509</td>\n",
       "      <td>0.076996</td>\n",
       "      <td>-0.168651</td>\n",
       "      <td>-0.071674</td>\n",
       "      <td>-0.351036</td>\n",
       "      <td>-0.587376</td>\n",
       "      <td>0.507870</td>\n",
       "      <td>0.046317</td>\n",
       "      <td>-0.460223</td>\n",
       "      <td>0.023071</td>\n",
       "      <td>0.031575</td>\n",
       "      <td>1.494711</td>\n",
       "      <td>11.504447</td>\n",
       "    </tr>\n",
       "    <tr>\n",
       "      <th>5</th>\n",
       "      <td>0.742200</td>\n",
       "      <td>0.321358</td>\n",
       "      <td>-0.070063</td>\n",
       "      <td>0.124769</td>\n",
       "      <td>-0.345310</td>\n",
       "      <td>0.303697</td>\n",
       "      <td>0.015536</td>\n",
       "      <td>-0.001586</td>\n",
       "      <td>-0.086132</td>\n",
       "      <td>-0.013279</td>\n",
       "      <td>-0.120948</td>\n",
       "      <td>-0.211347</td>\n",
       "      <td>0.216300</td>\n",
       "      <td>1.146283</td>\n",
       "      <td>8.822679</td>\n",
       "    </tr>\n",
       "    <tr>\n",
       "      <th>10</th>\n",
       "      <td>-0.158672</td>\n",
       "      <td>-0.121062</td>\n",
       "      <td>0.009413</td>\n",
       "      <td>-0.079247</td>\n",
       "      <td>0.245311</td>\n",
       "      <td>0.314084</td>\n",
       "      <td>0.414405</td>\n",
       "      <td>-0.249601</td>\n",
       "      <td>0.295540</td>\n",
       "      <td>-0.133004</td>\n",
       "      <td>0.184975</td>\n",
       "      <td>-0.489082</td>\n",
       "      <td>0.427187</td>\n",
       "      <td>1.066792</td>\n",
       "      <td>8.210856</td>\n",
       "    </tr>\n",
       "    <tr>\n",
       "      <th>12</th>\n",
       "      <td>-0.029885</td>\n",
       "      <td>0.021492</td>\n",
       "      <td>0.000919</td>\n",
       "      <td>0.031881</td>\n",
       "      <td>-0.019737</td>\n",
       "      <td>-0.246157</td>\n",
       "      <td>-0.082818</td>\n",
       "      <td>0.023476</td>\n",
       "      <td>-0.061987</td>\n",
       "      <td>0.693146</td>\n",
       "      <td>0.049336</td>\n",
       "      <td>-0.634024</td>\n",
       "      <td>-0.201298</td>\n",
       "      <td>1.036743</td>\n",
       "      <td>7.979569</td>\n",
       "    </tr>\n",
       "    <tr>\n",
       "      <th>11</th>\n",
       "      <td>-0.221754</td>\n",
       "      <td>-0.081189</td>\n",
       "      <td>0.094935</td>\n",
       "      <td>0.045234</td>\n",
       "      <td>-0.149106</td>\n",
       "      <td>-0.323362</td>\n",
       "      <td>-0.282469</td>\n",
       "      <td>0.208046</td>\n",
       "      <td>-0.322278</td>\n",
       "      <td>-0.141020</td>\n",
       "      <td>-0.219151</td>\n",
       "      <td>-0.174990</td>\n",
       "      <td>0.693476</td>\n",
       "      <td>1.016402</td>\n",
       "      <td>7.823012</td>\n",
       "    </tr>\n",
       "    <tr>\n",
       "      <th>9</th>\n",
       "      <td>0.253754</td>\n",
       "      <td>0.106702</td>\n",
       "      <td>-0.099465</td>\n",
       "      <td>-0.036922</td>\n",
       "      <td>-0.001661</td>\n",
       "      <td>-0.604600</td>\n",
       "      <td>-0.121127</td>\n",
       "      <td>-0.028076</td>\n",
       "      <td>0.273458</td>\n",
       "      <td>-0.476949</td>\n",
       "      <td>0.397326</td>\n",
       "      <td>-0.240386</td>\n",
       "      <td>-0.118533</td>\n",
       "      <td>0.960245</td>\n",
       "      <td>7.390786</td>\n",
       "    </tr>\n",
       "    <tr>\n",
       "      <th>8</th>\n",
       "      <td>-0.118631</td>\n",
       "      <td>-0.075343</td>\n",
       "      <td>0.040848</td>\n",
       "      <td>-0.028992</td>\n",
       "      <td>0.072773</td>\n",
       "      <td>0.511859</td>\n",
       "      <td>-0.694080</td>\n",
       "      <td>0.174477</td>\n",
       "      <td>0.008715</td>\n",
       "      <td>-0.229912</td>\n",
       "      <td>0.175158</td>\n",
       "      <td>-0.280680</td>\n",
       "      <td>-0.189369</td>\n",
       "      <td>0.943429</td>\n",
       "      <td>7.261354</td>\n",
       "    </tr>\n",
       "    <tr>\n",
       "      <th>6</th>\n",
       "      <td>-0.334554</td>\n",
       "      <td>-0.076037</td>\n",
       "      <td>0.191420</td>\n",
       "      <td>0.248871</td>\n",
       "      <td>-0.772793</td>\n",
       "      <td>0.076929</td>\n",
       "      <td>0.256879</td>\n",
       "      <td>0.114623</td>\n",
       "      <td>0.090721</td>\n",
       "      <td>-0.157142</td>\n",
       "      <td>0.124236</td>\n",
       "      <td>-0.117127</td>\n",
       "      <td>-0.198453</td>\n",
       "      <td>0.843466</td>\n",
       "      <td>6.491967</td>\n",
       "    </tr>\n",
       "    <tr>\n",
       "      <th>7</th>\n",
       "      <td>0.005278</td>\n",
       "      <td>0.073494</td>\n",
       "      <td>-0.010131</td>\n",
       "      <td>0.022663</td>\n",
       "      <td>-0.156589</td>\n",
       "      <td>0.042118</td>\n",
       "      <td>-0.207262</td>\n",
       "      <td>0.129736</td>\n",
       "      <td>0.376383</td>\n",
       "      <td>0.413407</td>\n",
       "      <td>0.557125</td>\n",
       "      <td>0.356010</td>\n",
       "      <td>0.397707</td>\n",
       "      <td>0.798407</td>\n",
       "      <td>6.145156</td>\n",
       "    </tr>\n",
       "    <tr>\n",
       "      <th>4</th>\n",
       "      <td>0.061271</td>\n",
       "      <td>-0.037288</td>\n",
       "      <td>-0.022119</td>\n",
       "      <td>0.036570</td>\n",
       "      <td>0.131530</td>\n",
       "      <td>-0.019192</td>\n",
       "      <td>0.099352</td>\n",
       "      <td>0.693523</td>\n",
       "      <td>0.559500</td>\n",
       "      <td>0.001651</td>\n",
       "      <td>-0.408519</td>\n",
       "      <td>-0.065373</td>\n",
       "      <td>-0.017635</td>\n",
       "      <td>0.669233</td>\n",
       "      <td>5.150934</td>\n",
       "    </tr>\n",
       "    <tr>\n",
       "      <th>3</th>\n",
       "      <td>0.277584</td>\n",
       "      <td>-0.698995</td>\n",
       "      <td>-0.016570</td>\n",
       "      <td>0.637943</td>\n",
       "      <td>0.113963</td>\n",
       "      <td>-0.034599</td>\n",
       "      <td>-0.046133</td>\n",
       "      <td>-0.078968</td>\n",
       "      <td>-0.000412</td>\n",
       "      <td>0.025338</td>\n",
       "      <td>0.049715</td>\n",
       "      <td>0.036467</td>\n",
       "      <td>0.010728</td>\n",
       "      <td>0.635133</td>\n",
       "      <td>4.888470</td>\n",
       "    </tr>\n",
       "    <tr>\n",
       "      <th>2</th>\n",
       "      <td>0.294000</td>\n",
       "      <td>-0.312350</td>\n",
       "      <td>0.780262</td>\n",
       "      <td>-0.446597</td>\n",
       "      <td>-0.051478</td>\n",
       "      <td>-0.042147</td>\n",
       "      <td>0.000017</td>\n",
       "      <td>-0.004073</td>\n",
       "      <td>0.033122</td>\n",
       "      <td>0.037715</td>\n",
       "      <td>0.012488</td>\n",
       "      <td>0.016871</td>\n",
       "      <td>-0.018468</td>\n",
       "      <td>0.544432</td>\n",
       "      <td>4.190370</td>\n",
       "    </tr>\n",
       "  </tbody>\n",
       "</table>\n",
       "</div>"
      ],
      "text/plain": [
       "           0         1         2         3         4         5         6  \\\n",
       "0  -0.084027  0.504792  0.568201  0.544747  0.330988 -0.015862  0.028132   \n",
       "1  -0.095770  0.066432  0.072509  0.076996 -0.168651 -0.071674 -0.351036   \n",
       "5   0.742200  0.321358 -0.070063  0.124769 -0.345310  0.303697  0.015536   \n",
       "10 -0.158672 -0.121062  0.009413 -0.079247  0.245311  0.314084  0.414405   \n",
       "12 -0.029885  0.021492  0.000919  0.031881 -0.019737 -0.246157 -0.082818   \n",
       "11 -0.221754 -0.081189  0.094935  0.045234 -0.149106 -0.323362 -0.282469   \n",
       "9   0.253754  0.106702 -0.099465 -0.036922 -0.001661 -0.604600 -0.121127   \n",
       "8  -0.118631 -0.075343  0.040848 -0.028992  0.072773  0.511859 -0.694080   \n",
       "6  -0.334554 -0.076037  0.191420  0.248871 -0.772793  0.076929  0.256879   \n",
       "7   0.005278  0.073494 -0.010131  0.022663 -0.156589  0.042118 -0.207262   \n",
       "4   0.061271 -0.037288 -0.022119  0.036570  0.131530 -0.019192  0.099352   \n",
       "3   0.277584 -0.698995 -0.016570  0.637943  0.113963 -0.034599 -0.046133   \n",
       "2   0.294000 -0.312350  0.780262 -0.446597 -0.051478 -0.042147  0.000017   \n",
       "\n",
       "           7         8         9        10        11        12  eigen_values  \\\n",
       "0   0.020625 -0.026704 -0.040544  0.070728  0.008616 -0.008177      1.837186   \n",
       "1  -0.587376  0.507870  0.046317 -0.460223  0.023071  0.031575      1.494711   \n",
       "5  -0.001586 -0.086132 -0.013279 -0.120948 -0.211347  0.216300      1.146283   \n",
       "10 -0.249601  0.295540 -0.133004  0.184975 -0.489082  0.427187      1.066792   \n",
       "12  0.023476 -0.061987  0.693146  0.049336 -0.634024 -0.201298      1.036743   \n",
       "11  0.208046 -0.322278 -0.141020 -0.219151 -0.174990  0.693476      1.016402   \n",
       "9  -0.028076  0.273458 -0.476949  0.397326 -0.240386 -0.118533      0.960245   \n",
       "8   0.174477  0.008715 -0.229912  0.175158 -0.280680 -0.189369      0.943429   \n",
       "6   0.114623  0.090721 -0.157142  0.124236 -0.117127 -0.198453      0.843466   \n",
       "7   0.129736  0.376383  0.413407  0.557125  0.356010  0.397707      0.798407   \n",
       "4   0.693523  0.559500  0.001651 -0.408519 -0.065373 -0.017635      0.669233   \n",
       "3  -0.078968 -0.000412  0.025338  0.049715  0.036467  0.010728      0.635133   \n",
       "2  -0.004073  0.033122  0.037715  0.012488  0.016871 -0.018468      0.544432   \n",
       "\n",
       "    %_explained_variance  \n",
       "0              14.140400  \n",
       "1              11.504447  \n",
       "5               8.822679  \n",
       "10              8.210856  \n",
       "12              7.979569  \n",
       "11              7.823012  \n",
       "9               7.390786  \n",
       "8               7.261354  \n",
       "6               6.491967  \n",
       "7               6.145156  \n",
       "4               5.150934  \n",
       "3               4.888470  \n",
       "2               4.190370  "
      ]
     },
     "execution_count": 46,
     "metadata": {},
     "output_type": "execute_result"
    }
   ],
   "source": [
    "pca[\"%_explained_variance\"] = 100 * (pca[\"eigen_values\"]/pca[\"eigen_values\"].sum())\n",
    "pca"
   ]
  },
  {
   "cell_type": "code",
   "execution_count": 47,
   "metadata": {
    "collapsed": false,
    "deletable": true,
    "editable": true
   },
   "outputs": [
    {
     "data": {
      "text/plain": [
       "100.0"
      ]
     },
     "execution_count": 47,
     "metadata": {},
     "output_type": "execute_result"
    }
   ],
   "source": [
    "pca[\"%_explained_variance\"].sum()"
   ]
  },
  {
   "cell_type": "code",
   "execution_count": 48,
   "metadata": {
    "collapsed": false,
    "deletable": true,
    "editable": true
   },
   "outputs": [
    {
     "name": "stdout",
     "output_type": "stream",
     "text": [
      "0\n",
      "14.1403998652\n",
      "25.644847061\n",
      "34.4675261933\n",
      "42.6783817738\n",
      "50.6579511009\n",
      "58.4809634624\n",
      "65.8717497747\n",
      "73.1331032796\n",
      "79.625070763\n",
      "85.7702266043\n",
      "90.9211603028\n",
      "95.8096301675\n",
      "100.0\n"
     ]
    }
   ],
   "source": [
    "for i in range(14):\n",
    "    print (pca[\"%_explained_variance\"][:i].sum())"
   ]
  },
  {
   "cell_type": "raw",
   "metadata": {
    "deletable": true,
    "editable": true
   },
   "source": [
    "Even the last component explains nearly 5% variance. So no principle component can be ignored and thereby dimensionality reduction is not possbile in this case."
   ]
  },
  {
   "cell_type": "markdown",
   "metadata": {
    "deletable": true,
    "editable": true
   },
   "source": [
    "# Conclusion :"
   ]
  },
  {
   "cell_type": "raw",
   "metadata": {
    "deletable": true,
    "editable": true
   },
   "source": [
    "By analysing the data,\n",
    "i,   We found out individual effect of each component and optimum values of each parameter for employeer to stay\n",
    "ii,  RandomForestClassifier gave best accuracy of 99%\n",
    "iii, Probabilities of employeers to leave was obtained using RandomForestClassifier\n",
    "iv,  Dimensionality reduction is not possible since even the last principle component explains nearly 5% variance"
   ]
  }
 ],
 "metadata": {
  "kernelspec": {
   "display_name": "Python 3",
   "language": "python",
   "name": "python3"
  },
  "language_info": {
   "codemirror_mode": {
    "name": "ipython",
    "version": 3
   },
   "file_extension": ".py",
   "mimetype": "text/x-python",
   "name": "python",
   "nbconvert_exporter": "python",
   "pygments_lexer": "ipython3",
   "version": "3.5.2+"
  }
 },
 "nbformat": 4,
 "nbformat_minor": 2
}
